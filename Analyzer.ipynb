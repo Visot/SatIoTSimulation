{
 "cells": [
  {
   "cell_type": "code",
   "execution_count": 15,
   "metadata": {},
   "outputs": [],
   "source": [
    "import pandas as pd\n",
    "import os\n",
    "import shutil\n",
    "import time\n",
    "import subprocess\n",
    "from tqdm import tqdm "
   ]
  },
  {
   "cell_type": "code",
   "execution_count": 21,
   "metadata": {},
   "outputs": [
    {
     "name": "stderr",
     "output_type": "stream",
     "text": [
      "  0%|          | 0/10 [00:00<?, ?it/s]"
     ]
    },
    {
     "name": "stdout",
     "output_type": "stream",
     "text": [
      "sample with 100 IoT devices\n",
      "observation 1\n",
      "[Simulator Info] Computing FOVs...\n",
      "[Simulator Info] FOVs computed.\n",
      "[Running Sim]: Current step: 0\n",
      "[Running Sim]: Current step: 60\n",
      "[Running Sim]: Current step: 120\n",
      "[Running Sim]: Current step: 180\n",
      "[Running Sim]: Current step: 240\n",
      "[Running Sim]: Current step: 300\n",
      "[Running Sim]: Current step: 360\n",
      "[Running Sim]: Current step: 420\n",
      "[Running Sim]: Current step: 480\n",
      "[Running Sim]: Current step: 540\n",
      "[Simulator Info] Time required to run the simulation: 9.66188649600008 seconds.\n",
      "Running IoT SMAs\n",
      "Running GS SMAs\n",
      "Running SAT SMAs\n",
      "Running Summarizer\n",
      "num packets generated 10\n",
      "num packets received by gs 4\n",
      "num packets received by sat 10\n",
      "Results:  {'endToEndPLR': 0.6, 'generatorToSatPLR': 0.0, 'satToGroundPLR': 0.6, 'endToEndLatency': 140.5, 'generatorToSatLatency': 64.0, 'satToGSLatency': 83.5, 'generationRate': 0.029940119760479042, 'satelliteAggregationRate': 0.029940119760479042, 'gsAggregationRate': 0.011976047904191617}\n",
      "observation 2\n",
      "[Simulator Info] Computing FOVs...\n",
      "[Simulator Info] FOVs computed.\n",
      "[Running Sim]: Current step: 0\n",
      "[Running Sim]: Current step: 60\n",
      "[Running Sim]: Current step: 120\n",
      "[Running Sim]: Current step: 180\n",
      "[Running Sim]: Current step: 240\n",
      "[Running Sim]: Current step: 300\n",
      "[Running Sim]: Current step: 360\n",
      "[Running Sim]: Current step: 420\n",
      "[Running Sim]: Current step: 480\n",
      "[Running Sim]: Current step: 540\n",
      "[Simulator Info] Time required to run the simulation: 10.020655288999478 seconds.\n",
      "Running IoT SMAs\n",
      "Running GS SMAs\n",
      "Running SAT SMAs\n",
      "Running Summarizer\n",
      "num packets generated 7\n",
      "num packets received by gs 4\n",
      "num packets received by sat 5\n",
      "Results:  {'endToEndPLR': 0.42857142857142855, 'generatorToSatPLR': 0.2857142857142857, 'satToGroundPLR': 0.2, 'endToEndLatency': 214.75, 'generatorToSatLatency': 58.0, 'satToGSLatency': 160.75, 'generationRate': 0.014141414141414142, 'satelliteAggregationRate': 0.010101010101010102, 'gsAggregationRate': 0.00808080808080808}\n",
      "observation 3\n",
      "[Simulator Info] Computing FOVs...\n",
      "[Simulator Info] FOVs computed.\n",
      "[Running Sim]: Current step: 0\n",
      "[Running Sim]: Current step: 60\n",
      "[Running Sim]: Current step: 120\n",
      "[Running Sim]: Current step: 180\n",
      "[Running Sim]: Current step: 240\n",
      "[Running Sim]: Current step: 300\n",
      "[Running Sim]: Current step: 360\n",
      "[Running Sim]: Current step: 420\n",
      "[Running Sim]: Current step: 480\n",
      "[Running Sim]: Current step: 540\n",
      "[Simulator Info] Time required to run the simulation: 9.886636850000286 seconds.\n",
      "Running IoT SMAs\n",
      "Running GS SMAs\n",
      "Running SAT SMAs\n",
      "Running Summarizer\n",
      "num packets generated 12\n",
      "num packets received by gs 3\n",
      "num packets received by sat 8\n",
      "Results:  {'endToEndPLR': 0.75, 'generatorToSatPLR': 0.3333333333333333, 'satToGroundPLR': 0.625, 'endToEndLatency': 260.0, 'generatorToSatLatency': 86.375, 'satToGSLatency': 149.333333, 'generationRate': 0.023762376237623763, 'satelliteAggregationRate': 0.015841584158415842, 'gsAggregationRate': 0.005940594059405941}\n",
      "observation 4\n",
      "[Simulator Info] Computing FOVs...\n",
      "[Simulator Info] FOVs computed.\n",
      "[Running Sim]: Current step: 0\n",
      "[Running Sim]: Current step: 60\n",
      "[Running Sim]: Current step: 120\n",
      "[Running Sim]: Current step: 180\n",
      "[Running Sim]: Current step: 240\n",
      "[Running Sim]: Current step: 300\n",
      "[Running Sim]: Current step: 360\n",
      "[Running Sim]: Current step: 420\n",
      "[Running Sim]: Current step: 480\n",
      "[Running Sim]: Current step: 540\n",
      "[Simulator Info] Time required to run the simulation: 9.505323274001057 seconds.\n",
      "Running IoT SMAs\n",
      "Running GS SMAs\n",
      "Running SAT SMAs\n",
      "Running Summarizer\n",
      "num packets generated 7\n",
      "num packets received by gs 1\n",
      "num packets received by sat 7\n",
      "Results:  {'endToEndPLR': 0.8571428571428571, 'generatorToSatPLR': 0.0, 'satToGroundPLR': 0.8571428571428571, 'endToEndLatency': 202.0, 'generatorToSatLatency': 82.285714, 'satToGSLatency': 94.0, 'generationRate': 0.014373716632443531, 'satelliteAggregationRate': 0.014373716632443531, 'gsAggregationRate': 0.002053388090349076}\n",
      "observation 5\n",
      "[Simulator Info] Computing FOVs...\n",
      "[Simulator Info] FOVs computed.\n",
      "[Running Sim]: Current step: 0\n",
      "[Running Sim]: Current step: 60\n",
      "[Running Sim]: Current step: 120\n",
      "[Running Sim]: Current step: 180\n",
      "[Running Sim]: Current step: 240\n",
      "[Running Sim]: Current step: 300\n",
      "[Running Sim]: Current step: 360\n",
      "[Running Sim]: Current step: 420\n",
      "[Running Sim]: Current step: 480\n",
      "[Running Sim]: Current step: 540\n",
      "[Simulator Info] Time required to run the simulation: 9.925236623999808 seconds.\n",
      "Running IoT SMAs\n",
      "Running GS SMAs\n",
      "Running SAT SMAs\n",
      "Running Summarizer\n",
      "num packets generated 7\n",
      "num packets received by gs 2\n",
      "num packets received by sat 6\n",
      "Results:  {'endToEndPLR': 0.7142857142857143, 'generatorToSatPLR': 0.14285714285714285, 'satToGroundPLR': 0.6666666666666666, 'endToEndLatency': 151.5, 'generatorToSatLatency': 77.0, 'satToGSLatency': 86.0, 'generationRate': 0.01674641148325359, 'satelliteAggregationRate': 0.014354066985645933, 'gsAggregationRate': 0.004784688995215311}\n"
     ]
    },
    {
     "name": "stderr",
     "output_type": "stream",
     "text": [
      " 10%|█         | 1/10 [01:37<14:34, 97.22s/it]"
     ]
    },
    {
     "name": "stdout",
     "output_type": "stream",
     "text": [
      "sample with 200 IoT devices\n",
      "observation 1\n",
      "[Simulator Info] Computing FOVs...\n",
      "[Simulator Info] FOVs computed.\n",
      "[Running Sim]: Current step: 0\n",
      "[Running Sim]: Current step: 60\n",
      "[Running Sim]: Current step: 120\n",
      "[Running Sim]: Current step: 180\n",
      "[Running Sim]: Current step: 240\n",
      "[Running Sim]: Current step: 300\n",
      "[Running Sim]: Current step: 360\n",
      "[Running Sim]: Current step: 420\n",
      "[Running Sim]: Current step: 480\n",
      "[Running Sim]: Current step: 540\n",
      "[Simulator Info] Time required to run the simulation: 13.018309638999199 seconds.\n",
      "Running IoT SMAs\n",
      "Running GS SMAs\n",
      "Running SAT SMAs\n",
      "Running Summarizer\n",
      "num packets generated 7\n",
      "num packets received by gs 3\n",
      "num packets received by sat 7\n",
      "Results:  {'endToEndPLR': 0.5714285714285714, 'generatorToSatPLR': 0.0, 'satToGroundPLR': 0.5714285714285714, 'endToEndLatency': 195.666666, 'generatorToSatLatency': 67.857142, 'satToGSLatency': 140.666666, 'generationRate': 0.021148036253776436, 'satelliteAggregationRate': 0.021148036253776436, 'gsAggregationRate': 0.00906344410876133}\n",
      "observation 2\n",
      "[Simulator Info] Computing FOVs...\n",
      "[Simulator Info] FOVs computed.\n",
      "[Running Sim]: Current step: 0\n",
      "[Running Sim]: Current step: 60\n",
      "[Running Sim]: Current step: 120\n",
      "[Running Sim]: Current step: 180\n",
      "[Running Sim]: Current step: 240\n",
      "[Running Sim]: Current step: 300\n",
      "[Running Sim]: Current step: 360\n",
      "[Running Sim]: Current step: 420\n",
      "[Running Sim]: Current step: 480\n",
      "[Running Sim]: Current step: 540\n",
      "[Simulator Info] Time required to run the simulation: 12.884722144999614 seconds.\n",
      "Running IoT SMAs\n",
      "Running GS SMAs\n",
      "Running SAT SMAs\n",
      "Running Summarizer\n",
      "num packets generated 8\n",
      "num packets received by gs 2\n",
      "num packets received by sat 7\n",
      "Results:  {'endToEndPLR': 0.75, 'generatorToSatPLR': 0.125, 'satToGroundPLR': 0.7142857142857143, 'endToEndLatency': 241.0, 'generatorToSatLatency': 56.571428, 'satToGSLatency': 200.5, 'generationRate': 0.020618556701030927, 'satelliteAggregationRate': 0.01804123711340206, 'gsAggregationRate': 0.005154639175257732}\n",
      "observation 3\n",
      "[Simulator Info] Computing FOVs...\n",
      "[Simulator Info] FOVs computed.\n",
      "[Running Sim]: Current step: 0\n",
      "[Running Sim]: Current step: 60\n",
      "[Running Sim]: Current step: 120\n",
      "[Running Sim]: Current step: 180\n",
      "[Running Sim]: Current step: 240\n",
      "[Running Sim]: Current step: 300\n",
      "[Running Sim]: Current step: 360\n",
      "[Running Sim]: Current step: 420\n",
      "[Running Sim]: Current step: 480\n",
      "[Running Sim]: Current step: 540\n",
      "[Simulator Info] Time required to run the simulation: 12.40342881200013 seconds.\n",
      "Running IoT SMAs\n",
      "Running GS SMAs\n",
      "Running SAT SMAs\n",
      "Running Summarizer\n",
      "num packets generated 16\n",
      "num packets received by gs 5\n",
      "num packets received by sat 13\n",
      "Results:  {'endToEndPLR': 0.6875, 'generatorToSatPLR': 0.1875, 'satToGroundPLR': 0.6153846153846154, 'endToEndLatency': 257.8, 'generatorToSatLatency': 64.76923, 'satToGSLatency': 190.2, 'generationRate': 0.02882882882882883, 'satelliteAggregationRate': 0.023423423423423424, 'gsAggregationRate': 0.009009009009009009}\n",
      "observation 4\n",
      "[Simulator Info] Computing FOVs...\n",
      "[Simulator Info] FOVs computed.\n",
      "[Running Sim]: Current step: 0\n",
      "[Running Sim]: Current step: 60\n",
      "[Running Sim]: Current step: 120\n",
      "[Running Sim]: Current step: 180\n",
      "[Running Sim]: Current step: 240\n",
      "[Running Sim]: Current step: 300\n",
      "[Running Sim]: Current step: 360\n",
      "[Running Sim]: Current step: 420\n",
      "[Running Sim]: Current step: 480\n",
      "[Running Sim]: Current step: 540\n",
      "[Simulator Info] Time required to run the simulation: 13.006746253000529 seconds.\n",
      "Running IoT SMAs\n",
      "Running GS SMAs\n",
      "Running SAT SMAs\n",
      "Running Summarizer\n",
      "num packets generated 15\n",
      "num packets received by gs 3\n",
      "num packets received by sat 12\n",
      "Results:  {'endToEndPLR': 0.8, 'generatorToSatPLR': 0.2, 'satToGroundPLR': 0.75, 'endToEndLatency': 194.0, 'generatorToSatLatency': 82.083333, 'satToGSLatency': 134.333333, 'generationRate': 0.031446540880503145, 'satelliteAggregationRate': 0.025157232704402517, 'gsAggregationRate': 0.006289308176100629}\n",
      "observation 5\n",
      "[Simulator Info] Computing FOVs...\n",
      "[Simulator Info] FOVs computed.\n",
      "[Running Sim]: Current step: 0\n",
      "[Running Sim]: Current step: 60\n",
      "[Running Sim]: Current step: 120\n",
      "[Running Sim]: Current step: 180\n",
      "[Running Sim]: Current step: 240\n",
      "[Running Sim]: Current step: 300\n",
      "[Running Sim]: Current step: 360\n",
      "[Running Sim]: Current step: 420\n",
      "[Running Sim]: Current step: 480\n",
      "[Running Sim]: Current step: 540\n",
      "[Simulator Info] Time required to run the simulation: 13.124719277999247 seconds.\n",
      "Running IoT SMAs\n",
      "Running GS SMAs\n",
      "Running SAT SMAs\n",
      "Running Summarizer\n",
      "num packets generated 13\n",
      "num packets received by gs 4\n",
      "num packets received by sat 11\n",
      "Results:  {'endToEndPLR': 0.6923076923076923, 'generatorToSatPLR': 0.15384615384615385, 'satToGroundPLR': 0.6363636363636364, 'endToEndLatency': 287.75, 'generatorToSatLatency': 57.545454, 'satToGSLatency': 225.5, 'generationRate': 0.02620967741935484, 'satelliteAggregationRate': 0.02217741935483871, 'gsAggregationRate': 0.008064516129032258}\n"
     ]
    },
    {
     "name": "stderr",
     "output_type": "stream",
     "text": [
      " 20%|██        | 2/10 [03:45<15:23, 115.39s/it]"
     ]
    },
    {
     "name": "stdout",
     "output_type": "stream",
     "text": [
      "sample with 300 IoT devices\n",
      "observation 1\n",
      "[Simulator Info] Computing FOVs...\n",
      "[Simulator Info] FOVs computed.\n",
      "[Running Sim]: Current step: 0\n",
      "[Running Sim]: Current step: 60\n",
      "[Running Sim]: Current step: 120\n",
      "[Running Sim]: Current step: 180\n",
      "[Running Sim]: Current step: 240\n",
      "[Running Sim]: Current step: 300\n",
      "[Running Sim]: Current step: 360\n",
      "[Running Sim]: Current step: 420\n",
      "[Running Sim]: Current step: 480\n",
      "[Running Sim]: Current step: 540\n",
      "[Simulator Info] Time required to run the simulation: 17.007621958999152 seconds.\n",
      "Running IoT SMAs\n",
      "Running GS SMAs\n",
      "Running SAT SMAs\n",
      "Running Summarizer\n",
      "num packets generated 25\n",
      "num packets received by gs 4\n",
      "num packets received by sat 20\n",
      "Results:  {'endToEndPLR': 0.84, 'generatorToSatPLR': 0.2, 'satToGroundPLR': 0.8, 'endToEndLatency': 238.75, 'generatorToSatLatency': 75.85, 'satToGSLatency': 159.75, 'generationRate': 0.0496031746031746, 'satelliteAggregationRate': 0.03968253968253968, 'gsAggregationRate': 0.007936507936507936}\n",
      "observation 2\n",
      "[Simulator Info] Computing FOVs...\n",
      "[Simulator Info] FOVs computed.\n",
      "[Running Sim]: Current step: 0\n",
      "[Running Sim]: Current step: 60\n",
      "[Running Sim]: Current step: 120\n",
      "[Running Sim]: Current step: 180\n",
      "[Running Sim]: Current step: 240\n",
      "[Running Sim]: Current step: 300\n",
      "[Running Sim]: Current step: 360\n",
      "[Running Sim]: Current step: 420\n",
      "[Running Sim]: Current step: 480\n",
      "[Running Sim]: Current step: 540\n",
      "[Simulator Info] Time required to run the simulation: 18.62441243500143 seconds.\n",
      "Running IoT SMAs\n",
      "Running GS SMAs\n",
      "Running SAT SMAs\n",
      "Running Summarizer\n",
      "num packets generated 19\n",
      "num packets received by gs 5\n",
      "num packets received by sat 17\n",
      "Results:  {'endToEndPLR': 0.7368421052631579, 'generatorToSatPLR': 0.10526315789473684, 'satToGroundPLR': 0.7058823529411765, 'endToEndLatency': 322.0, 'generatorToSatLatency': 74.411764, 'satToGSLatency': 234.8, 'generationRate': 0.031932773109243695, 'satelliteAggregationRate': 0.02857142857142857, 'gsAggregationRate': 0.008403361344537815}\n",
      "observation 3\n",
      "[Simulator Info] Computing FOVs...\n",
      "[Simulator Info] FOVs computed.\n",
      "[Running Sim]: Current step: 0\n",
      "[Running Sim]: Current step: 60\n",
      "[Running Sim]: Current step: 120\n",
      "[Running Sim]: Current step: 180\n",
      "[Running Sim]: Current step: 240\n",
      "[Running Sim]: Current step: 300\n",
      "[Running Sim]: Current step: 360\n",
      "[Running Sim]: Current step: 420\n",
      "[Running Sim]: Current step: 480\n",
      "[Running Sim]: Current step: 540\n",
      "[Simulator Info] Time required to run the simulation: 16.04267687599895 seconds.\n",
      "Running IoT SMAs\n",
      "Running GS SMAs\n",
      "Running SAT SMAs\n",
      "Running Summarizer\n",
      "num packets generated 19\n",
      "num packets received by gs 2\n",
      "num packets received by sat 15\n",
      "Results:  {'endToEndPLR': 0.8947368421052632, 'generatorToSatPLR': 0.21052631578947367, 'satToGroundPLR': 0.8666666666666667, 'endToEndLatency': 298.5, 'generatorToSatLatency': 86.8, 'satToGSLatency': 194.0, 'generationRate': 0.03467153284671533, 'satelliteAggregationRate': 0.02737226277372263, 'gsAggregationRate': 0.0036496350364963502}\n",
      "observation 4\n",
      "[Simulator Info] Computing FOVs...\n",
      "[Simulator Info] FOVs computed.\n",
      "[Running Sim]: Current step: 0\n",
      "[Running Sim]: Current step: 60\n",
      "[Running Sim]: Current step: 120\n",
      "[Running Sim]: Current step: 180\n",
      "[Running Sim]: Current step: 240\n",
      "[Running Sim]: Current step: 300\n",
      "[Running Sim]: Current step: 360\n",
      "[Running Sim]: Current step: 420\n",
      "[Running Sim]: Current step: 480\n",
      "[Running Sim]: Current step: 540\n",
      "[Simulator Info] Time required to run the simulation: 16.520948135999788 seconds.\n",
      "Running IoT SMAs\n",
      "Running GS SMAs\n",
      "Running SAT SMAs\n",
      "Running Summarizer\n",
      "num packets generated 20\n",
      "num packets received by gs 3\n",
      "num packets received by sat 15\n",
      "Results:  {'endToEndPLR': 0.85, 'generatorToSatPLR': 0.25, 'satToGroundPLR': 0.8, 'endToEndLatency': 206.0, 'generatorToSatLatency': 75.266666, 'satToGSLatency': 131.333333, 'generationRate': 0.0353356890459364, 'satelliteAggregationRate': 0.026501766784452298, 'gsAggregationRate': 0.00530035335689046}\n",
      "observation 5\n",
      "[Simulator Info] Computing FOVs...\n",
      "[Simulator Info] FOVs computed.\n",
      "[Running Sim]: Current step: 0\n",
      "[Running Sim]: Current step: 60\n",
      "[Running Sim]: Current step: 120\n",
      "[Running Sim]: Current step: 180\n",
      "[Running Sim]: Current step: 240\n",
      "[Running Sim]: Current step: 300\n",
      "[Running Sim]: Current step: 360\n",
      "[Running Sim]: Current step: 420\n",
      "[Running Sim]: Current step: 480\n",
      "[Running Sim]: Current step: 540\n",
      "[Simulator Info] Time required to run the simulation: 16.559968839999783 seconds.\n",
      "Running IoT SMAs\n",
      "Running GS SMAs\n",
      "Running SAT SMAs\n",
      "Running Summarizer\n",
      "num packets generated 21\n",
      "num packets received by gs 6\n",
      "num packets received by sat 18\n",
      "Results:  {'endToEndPLR': 0.7142857142857143, 'generatorToSatPLR': 0.14285714285714285, 'satToGroundPLR': 0.6666666666666666, 'endToEndLatency': 303.666666, 'generatorToSatLatency': 80.111111, 'satToGSLatency': 226.166666, 'generationRate': 0.036020583190394515, 'satelliteAggregationRate': 0.030874785591766724, 'gsAggregationRate': 0.010291595197255575}\n"
     ]
    },
    {
     "name": "stderr",
     "output_type": "stream",
     "text": [
      " 30%|███       | 3/10 [06:26<15:52, 136.12s/it]"
     ]
    },
    {
     "name": "stdout",
     "output_type": "stream",
     "text": [
      "sample with 400 IoT devices\n",
      "observation 1\n",
      "[Simulator Info] Computing FOVs...\n",
      "[Simulator Info] FOVs computed.\n",
      "[Running Sim]: Current step: 0\n",
      "[Running Sim]: Current step: 60\n",
      "[Running Sim]: Current step: 120\n",
      "[Running Sim]: Current step: 180\n",
      "[Running Sim]: Current step: 240\n",
      "[Running Sim]: Current step: 300\n",
      "[Running Sim]: Current step: 360\n",
      "[Running Sim]: Current step: 420\n",
      "[Running Sim]: Current step: 480\n",
      "[Running Sim]: Current step: 540\n",
      "[Simulator Info] Time required to run the simulation: 17.883580761999838 seconds.\n",
      "Running IoT SMAs\n",
      "Running GS SMAs\n",
      "Running SAT SMAs\n",
      "Running Summarizer\n",
      "num packets generated 18\n",
      "num packets received by gs 4\n",
      "num packets received by sat 13\n",
      "Results:  {'endToEndPLR': 0.7777777777777778, 'generatorToSatPLR': 0.2777777777777778, 'satToGroundPLR': 0.6923076923076923, 'endToEndLatency': 193.0, 'generatorToSatLatency': 93.692307, 'satToGSLatency': 117.5, 'generationRate': 0.03515625, 'satelliteAggregationRate': 0.025390625, 'gsAggregationRate': 0.0078125}\n",
      "observation 2\n",
      "[Simulator Info] Computing FOVs...\n",
      "[Simulator Info] FOVs computed.\n",
      "[Running Sim]: Current step: 0\n",
      "[Running Sim]: Current step: 60\n",
      "[Running Sim]: Current step: 120\n",
      "[Running Sim]: Current step: 180\n",
      "[Running Sim]: Current step: 240\n",
      "[Running Sim]: Current step: 300\n",
      "[Running Sim]: Current step: 360\n",
      "[Running Sim]: Current step: 420\n",
      "[Running Sim]: Current step: 480\n",
      "[Running Sim]: Current step: 540\n",
      "[Simulator Info] Time required to run the simulation: 17.762544814999274 seconds.\n",
      "Running IoT SMAs\n",
      "Running GS SMAs\n",
      "Running SAT SMAs\n",
      "Running Summarizer\n",
      "num packets generated 25\n",
      "num packets received by gs 4\n",
      "num packets received by sat 19\n",
      "Results:  {'endToEndPLR': 0.84, 'generatorToSatPLR': 0.24, 'satToGroundPLR': 0.7894736842105263, 'endToEndLatency': 219.0, 'generatorToSatLatency': 98.105263, 'satToGSLatency': 69.0, 'generationRate': 0.043029259896729774, 'satelliteAggregationRate': 0.03270223752151463, 'gsAggregationRate': 0.0068846815834767644}\n",
      "observation 3\n",
      "[Simulator Info] Computing FOVs...\n",
      "[Simulator Info] FOVs computed.\n",
      "[Running Sim]: Current step: 0\n",
      "[Running Sim]: Current step: 60\n",
      "[Running Sim]: Current step: 120\n",
      "[Running Sim]: Current step: 180\n",
      "[Running Sim]: Current step: 240\n",
      "[Running Sim]: Current step: 300\n",
      "[Running Sim]: Current step: 360\n",
      "[Running Sim]: Current step: 420\n",
      "[Running Sim]: Current step: 480\n",
      "[Running Sim]: Current step: 540\n",
      "[Simulator Info] Time required to run the simulation: 18.303295548001188 seconds.\n",
      "Running IoT SMAs\n",
      "Running GS SMAs\n",
      "Running SAT SMAs\n",
      "Running Summarizer\n",
      "num packets generated 30\n",
      "num packets received by gs 6\n",
      "num packets received by sat 22\n",
      "Results:  {'endToEndPLR': 0.8, 'generatorToSatPLR': 0.26666666666666666, 'satToGroundPLR': 0.7272727272727273, 'endToEndLatency': 232.833333, 'generatorToSatLatency': 73.954545, 'satToGSLatency': 164.166666, 'generationRate': 0.052083333333333336, 'satelliteAggregationRate': 0.03819444444444445, 'gsAggregationRate': 0.010416666666666666}\n",
      "observation 4\n",
      "[Simulator Info] Computing FOVs...\n",
      "[Simulator Info] FOVs computed.\n",
      "[Running Sim]: Current step: 0\n",
      "[Running Sim]: Current step: 60\n",
      "[Running Sim]: Current step: 120\n",
      "[Running Sim]: Current step: 180\n",
      "[Running Sim]: Current step: 240\n",
      "[Running Sim]: Current step: 300\n",
      "[Running Sim]: Current step: 360\n",
      "[Running Sim]: Current step: 420\n",
      "[Running Sim]: Current step: 480\n",
      "[Running Sim]: Current step: 540\n",
      "[Simulator Info] Time required to run the simulation: 18.891714606001187 seconds.\n",
      "Running IoT SMAs\n",
      "Running GS SMAs\n",
      "Running SAT SMAs\n",
      "Running Summarizer\n",
      "num packets generated 27\n",
      "num packets received by gs 9\n",
      "num packets received by sat 22\n",
      "Results:  {'endToEndPLR': 0.6666666666666666, 'generatorToSatPLR': 0.18518518518518517, 'satToGroundPLR': 0.5909090909090909, 'endToEndLatency': 253.333333, 'generatorToSatLatency': 70.90909, 'satToGSLatency': 187.111111, 'generationRate': 0.061224489795918366, 'satelliteAggregationRate': 0.049886621315192746, 'gsAggregationRate': 0.02040816326530612}\n",
      "observation 5\n",
      "[Simulator Info] Computing FOVs...\n",
      "[Simulator Info] FOVs computed.\n",
      "[Running Sim]: Current step: 0\n",
      "[Running Sim]: Current step: 60\n",
      "[Running Sim]: Current step: 120\n",
      "[Running Sim]: Current step: 180\n",
      "[Running Sim]: Current step: 240\n",
      "[Running Sim]: Current step: 300\n",
      "[Running Sim]: Current step: 360\n",
      "[Running Sim]: Current step: 420\n",
      "[Running Sim]: Current step: 480\n",
      "[Running Sim]: Current step: 540\n",
      "[Simulator Info] Time required to run the simulation: 17.94386396200025 seconds.\n",
      "Running IoT SMAs\n",
      "Running GS SMAs\n",
      "Running SAT SMAs\n",
      "Running Summarizer\n",
      "num packets generated 33\n",
      "num packets received by gs 4\n",
      "num packets received by sat 25\n",
      "Results:  {'endToEndPLR': 0.8787878787878788, 'generatorToSatPLR': 0.24242424242424243, 'satToGroundPLR': 0.84, 'endToEndLatency': 190.25, 'generatorToSatLatency': 66.0, 'satToGSLatency': 127.25, 'generationRate': 0.06273764258555133, 'satelliteAggregationRate': 0.04752851711026616, 'gsAggregationRate': 0.0076045627376425855}\n"
     ]
    },
    {
     "name": "stderr",
     "output_type": "stream",
     "text": [
      " 40%|████      | 4/10 [09:25<15:20, 153.34s/it]"
     ]
    },
    {
     "name": "stdout",
     "output_type": "stream",
     "text": [
      "sample with 500 IoT devices\n",
      "observation 1\n",
      "[Simulator Info] Computing FOVs...\n",
      "[Simulator Info] FOVs computed.\n",
      "[Running Sim]: Current step: 0\n",
      "[Running Sim]: Current step: 60\n",
      "[Running Sim]: Current step: 120\n",
      "[Running Sim]: Current step: 180\n",
      "[Running Sim]: Current step: 240\n",
      "[Running Sim]: Current step: 300\n",
      "[Running Sim]: Current step: 360\n",
      "[Running Sim]: Current step: 420\n",
      "[Running Sim]: Current step: 480\n",
      "[Running Sim]: Current step: 540\n",
      "[Simulator Info] Time required to run the simulation: 21.916235197999413 seconds.\n",
      "Running IoT SMAs\n",
      "Running GS SMAs\n",
      "Running SAT SMAs\n",
      "Running Summarizer\n",
      "num packets generated 35\n",
      "num packets received by gs 12\n",
      "num packets received by sat 31\n",
      "Results:  {'endToEndPLR': 0.6571428571428571, 'generatorToSatPLR': 0.11428571428571428, 'satToGroundPLR': 0.6129032258064516, 'endToEndLatency': 295.5, 'generatorToSatLatency': 77.064516, 'satToGSLatency': 214.583333, 'generationRate': 0.061619718309859156, 'satelliteAggregationRate': 0.05457746478873239, 'gsAggregationRate': 0.02112676056338028}\n",
      "observation 2\n",
      "[Simulator Info] Computing FOVs...\n",
      "[Simulator Info] FOVs computed.\n",
      "[Running Sim]: Current step: 0\n",
      "[Running Sim]: Current step: 60\n",
      "[Running Sim]: Current step: 120\n",
      "[Running Sim]: Current step: 180\n",
      "[Running Sim]: Current step: 240\n",
      "[Running Sim]: Current step: 300\n",
      "[Running Sim]: Current step: 360\n",
      "[Running Sim]: Current step: 420\n",
      "[Running Sim]: Current step: 480\n",
      "[Running Sim]: Current step: 540\n",
      "[Simulator Info] Time required to run the simulation: 20.875267720999545 seconds.\n",
      "Running IoT SMAs\n",
      "Running GS SMAs\n",
      "Running SAT SMAs\n",
      "Running Summarizer\n",
      "num packets generated 36\n",
      "num packets received by gs 4\n",
      "num packets received by sat 31\n",
      "Results:  {'endToEndPLR': 0.8888888888888888, 'generatorToSatPLR': 0.1388888888888889, 'satToGroundPLR': 0.8709677419354839, 'endToEndLatency': 175.25, 'generatorToSatLatency': 85.451612, 'satToGSLatency': 100.0, 'generationRate': 0.06691449814126393, 'satelliteAggregationRate': 0.05762081784386617, 'gsAggregationRate': 0.007434944237918215}\n",
      "observation 3\n",
      "[Simulator Info] Computing FOVs...\n",
      "[Simulator Info] FOVs computed.\n",
      "[Running Sim]: Current step: 0\n",
      "[Running Sim]: Current step: 60\n",
      "[Running Sim]: Current step: 120\n",
      "[Running Sim]: Current step: 180\n",
      "[Running Sim]: Current step: 240\n",
      "[Running Sim]: Current step: 300\n",
      "[Running Sim]: Current step: 360\n",
      "[Running Sim]: Current step: 420\n",
      "[Running Sim]: Current step: 480\n",
      "[Running Sim]: Current step: 540\n",
      "[Simulator Info] Time required to run the simulation: 21.32957351099867 seconds.\n",
      "Running IoT SMAs\n",
      "Running GS SMAs\n",
      "Running SAT SMAs\n",
      "Running Summarizer\n",
      "num packets generated 42\n",
      "num packets received by gs 9\n",
      "num packets received by sat 36\n",
      "Results:  {'endToEndPLR': 0.7857142857142857, 'generatorToSatPLR': 0.14285714285714285, 'satToGroundPLR': 0.75, 'endToEndLatency': 277.111111, 'generatorToSatLatency': 81.277777, 'satToGSLatency': 195.0, 'generationRate': 0.07142857142857142, 'satelliteAggregationRate': 0.061224489795918366, 'gsAggregationRate': 0.015306122448979591}\n",
      "observation 4\n",
      "[Simulator Info] Computing FOVs...\n",
      "[Simulator Info] FOVs computed.\n",
      "[Running Sim]: Current step: 0\n",
      "[Running Sim]: Current step: 60\n",
      "[Running Sim]: Current step: 120\n",
      "[Running Sim]: Current step: 180\n",
      "[Running Sim]: Current step: 240\n",
      "[Running Sim]: Current step: 300\n",
      "[Running Sim]: Current step: 360\n",
      "[Running Sim]: Current step: 420\n",
      "[Running Sim]: Current step: 480\n",
      "[Running Sim]: Current step: 540\n",
      "[Simulator Info] Time required to run the simulation: 19.407829731000675 seconds.\n",
      "Running IoT SMAs\n",
      "Running GS SMAs\n",
      "Running SAT SMAs\n",
      "Running Summarizer\n",
      "num packets generated 31\n",
      "num packets received by gs 9\n",
      "num packets received by sat 24\n",
      "Results:  {'endToEndPLR': 0.7096774193548387, 'generatorToSatPLR': 0.22580645161290322, 'satToGroundPLR': 0.625, 'endToEndLatency': 232.333333, 'generatorToSatLatency': 71.5, 'satToGSLatency': 155.777777, 'generationRate': 0.05615942028985507, 'satelliteAggregationRate': 0.043478260869565216, 'gsAggregationRate': 0.016304347826086956}\n",
      "observation 5\n",
      "[Simulator Info] Computing FOVs...\n",
      "[Simulator Info] FOVs computed.\n",
      "[Running Sim]: Current step: 0\n",
      "[Running Sim]: Current step: 60\n",
      "[Running Sim]: Current step: 120\n",
      "[Running Sim]: Current step: 180\n",
      "[Running Sim]: Current step: 240\n",
      "[Running Sim]: Current step: 300\n",
      "[Running Sim]: Current step: 360\n",
      "[Running Sim]: Current step: 420\n",
      "[Running Sim]: Current step: 480\n",
      "[Running Sim]: Current step: 540\n",
      "[Simulator Info] Time required to run the simulation: 20.412089286999617 seconds.\n",
      "Running IoT SMAs\n",
      "Running GS SMAs\n",
      "Running SAT SMAs\n",
      "Running Summarizer\n",
      "num packets generated 43\n",
      "num packets received by gs 3\n",
      "num packets received by sat 33\n",
      "Results:  {'endToEndPLR': 0.9302325581395349, 'generatorToSatPLR': 0.23255813953488372, 'satToGroundPLR': 0.9090909090909091, 'endToEndLatency': 301.0, 'generatorToSatLatency': 78.848484, 'satToGSLatency': 229.333333, 'generationRate': 0.0730050933786078, 'satelliteAggregationRate': 0.05602716468590832, 'gsAggregationRate': 0.0050933786078098476}\n"
     ]
    },
    {
     "name": "stderr",
     "output_type": "stream",
     "text": [
      " 50%|█████     | 5/10 [12:51<14:20, 172.15s/it]"
     ]
    },
    {
     "name": "stdout",
     "output_type": "stream",
     "text": [
      "sample with 600 IoT devices\n",
      "observation 1\n",
      "[Simulator Info] Computing FOVs...\n",
      "[Simulator Info] FOVs computed.\n",
      "[Running Sim]: Current step: 0\n",
      "[Running Sim]: Current step: 60\n",
      "[Running Sim]: Current step: 120\n",
      "[Running Sim]: Current step: 180\n",
      "[Running Sim]: Current step: 240\n",
      "[Running Sim]: Current step: 300\n",
      "[Running Sim]: Current step: 360\n",
      "[Running Sim]: Current step: 420\n",
      "[Running Sim]: Current step: 480\n",
      "[Running Sim]: Current step: 540\n",
      "[Simulator Info] Time required to run the simulation: 23.945761308999863 seconds.\n",
      "Running IoT SMAs\n",
      "Running GS SMAs\n",
      "Running SAT SMAs\n",
      "Running Summarizer\n",
      "num packets generated 31\n",
      "num packets received by gs 7\n",
      "num packets received by sat 26\n",
      "Results:  {'endToEndPLR': 0.7741935483870968, 'generatorToSatPLR': 0.16129032258064516, 'satToGroundPLR': 0.7307692307692307, 'endToEndLatency': 216.714285, 'generatorToSatLatency': 82.576923, 'satToGSLatency': 161.571428, 'generationRate': 0.05486725663716814, 'satelliteAggregationRate': 0.04601769911504425, 'gsAggregationRate': 0.012389380530973451}\n",
      "observation 2\n",
      "[Simulator Info] Computing FOVs...\n",
      "[Simulator Info] FOVs computed.\n",
      "[Running Sim]: Current step: 0\n",
      "[Running Sim]: Current step: 60\n",
      "[Running Sim]: Current step: 120\n",
      "[Running Sim]: Current step: 180\n",
      "[Running Sim]: Current step: 240\n",
      "[Running Sim]: Current step: 300\n",
      "[Running Sim]: Current step: 360\n",
      "[Running Sim]: Current step: 420\n",
      "[Running Sim]: Current step: 480\n",
      "[Running Sim]: Current step: 540\n",
      "[Simulator Info] Time required to run the simulation: 23.80862922400047 seconds.\n",
      "Running IoT SMAs\n",
      "Running GS SMAs\n",
      "Running SAT SMAs\n",
      "Running Summarizer\n",
      "num packets generated 45\n",
      "num packets received by gs 10\n",
      "num packets received by sat 35\n",
      "Results:  {'endToEndPLR': 0.7777777777777778, 'generatorToSatPLR': 0.2222222222222222, 'satToGroundPLR': 0.7142857142857143, 'endToEndLatency': 327.2, 'generatorToSatLatency': 84.342857, 'satToGSLatency': 253.5, 'generationRate': 0.07785467128027682, 'satelliteAggregationRate': 0.06055363321799308, 'gsAggregationRate': 0.01730103806228374}\n",
      "observation 3\n",
      "[Simulator Info] Computing FOVs...\n",
      "[Simulator Info] FOVs computed.\n",
      "[Running Sim]: Current step: 0\n",
      "[Running Sim]: Current step: 60\n",
      "[Running Sim]: Current step: 120\n",
      "[Running Sim]: Current step: 180\n",
      "[Running Sim]: Current step: 240\n",
      "[Running Sim]: Current step: 300\n",
      "[Running Sim]: Current step: 360\n",
      "[Running Sim]: Current step: 420\n",
      "[Running Sim]: Current step: 480\n",
      "[Running Sim]: Current step: 540\n",
      "[Simulator Info] Time required to run the simulation: 24.0024205410009 seconds.\n",
      "Running IoT SMAs\n",
      "Running GS SMAs\n",
      "Running SAT SMAs\n",
      "Running Summarizer\n",
      "num packets generated 39\n",
      "num packets received by gs 6\n",
      "num packets received by sat 25\n",
      "Results:  {'endToEndPLR': 0.8461538461538461, 'generatorToSatPLR': 0.358974358974359, 'satToGroundPLR': 0.76, 'endToEndLatency': 286.833333, 'generatorToSatLatency': 94.04, 'satToGSLatency': 206.666666, 'generationRate': 0.06902654867256637, 'satelliteAggregationRate': 0.04424778761061947, 'gsAggregationRate': 0.010619469026548672}\n",
      "observation 4\n",
      "[Simulator Info] Computing FOVs...\n",
      "[Simulator Info] FOVs computed.\n",
      "[Running Sim]: Current step: 0\n",
      "[Running Sim]: Current step: 60\n",
      "[Running Sim]: Current step: 120\n",
      "[Running Sim]: Current step: 180\n",
      "[Running Sim]: Current step: 240\n",
      "[Running Sim]: Current step: 300\n",
      "[Running Sim]: Current step: 360\n",
      "[Running Sim]: Current step: 420\n",
      "[Running Sim]: Current step: 480\n",
      "[Running Sim]: Current step: 540\n",
      "[Simulator Info] Time required to run the simulation: 24.37925337300112 seconds.\n",
      "Running IoT SMAs\n",
      "Running GS SMAs\n",
      "Running SAT SMAs\n",
      "Running Summarizer\n",
      "num packets generated 38\n",
      "num packets received by gs 7\n",
      "num packets received by sat 32\n",
      "Results:  {'endToEndPLR': 0.8157894736842105, 'generatorToSatPLR': 0.15789473684210525, 'satToGroundPLR': 0.78125, 'endToEndLatency': 273.0, 'generatorToSatLatency': 84.5, 'satToGSLatency': 187.0, 'generationRate': 0.06654991243432574, 'satelliteAggregationRate': 0.05604203152364273, 'gsAggregationRate': 0.012259194395796848}\n",
      "observation 5\n",
      "[Simulator Info] Computing FOVs...\n",
      "[Simulator Info] FOVs computed.\n",
      "[Running Sim]: Current step: 0\n",
      "[Running Sim]: Current step: 60\n",
      "[Running Sim]: Current step: 120\n",
      "[Running Sim]: Current step: 180\n",
      "[Running Sim]: Current step: 240\n",
      "[Running Sim]: Current step: 300\n",
      "[Running Sim]: Current step: 360\n",
      "[Running Sim]: Current step: 420\n",
      "[Running Sim]: Current step: 480\n",
      "[Running Sim]: Current step: 540\n",
      "[Simulator Info] Time required to run the simulation: 24.0439155389995 seconds.\n",
      "Running IoT SMAs\n",
      "Running GS SMAs\n",
      "Running SAT SMAs\n",
      "Running Summarizer\n",
      "num packets generated 33\n",
      "num packets received by gs 9\n",
      "num packets received by sat 27\n",
      "Results:  {'endToEndPLR': 0.7272727272727273, 'generatorToSatPLR': 0.18181818181818182, 'satToGroundPLR': 0.6666666666666666, 'endToEndLatency': 235.111111, 'generatorToSatLatency': 77.555555, 'satToGSLatency': 149.444444, 'generationRate': 0.061452513966480445, 'satelliteAggregationRate': 0.05027932960893855, 'gsAggregationRate': 0.01675977653631285}\n"
     ]
    },
    {
     "name": "stderr",
     "output_type": "stream",
     "text": [
      " 60%|██████    | 6/10 [16:45<12:53, 193.28s/it]"
     ]
    },
    {
     "name": "stdout",
     "output_type": "stream",
     "text": [
      "sample with 700 IoT devices\n",
      "observation 1\n",
      "[Simulator Info] Computing FOVs...\n",
      "[Simulator Info] FOVs computed.\n",
      "[Running Sim]: Current step: 0\n",
      "[Running Sim]: Current step: 60\n",
      "[Running Sim]: Current step: 120\n",
      "[Running Sim]: Current step: 180\n",
      "[Running Sim]: Current step: 240\n",
      "[Running Sim]: Current step: 300\n",
      "[Running Sim]: Current step: 360\n",
      "[Running Sim]: Current step: 420\n",
      "[Running Sim]: Current step: 480\n",
      "[Running Sim]: Current step: 540\n",
      "[Simulator Info] Time required to run the simulation: 27.449645347000114 seconds.\n",
      "Running IoT SMAs\n",
      "Running GS SMAs\n",
      "Running SAT SMAs\n",
      "Running Summarizer\n",
      "num packets generated 57\n",
      "num packets received by gs 11\n",
      "num packets received by sat 47\n",
      "Results:  {'endToEndPLR': 0.8070175438596491, 'generatorToSatPLR': 0.17543859649122806, 'satToGroundPLR': 0.7659574468085106, 'endToEndLatency': 318.272727, 'generatorToSatLatency': 92.404255, 'satToGSLatency': 254.454545, 'generationRate': 0.09913043478260869, 'satelliteAggregationRate': 0.0817391304347826, 'gsAggregationRate': 0.019130434782608695}\n",
      "observation 2\n",
      "[Simulator Info] Computing FOVs...\n",
      "[Simulator Info] FOVs computed.\n",
      "[Running Sim]: Current step: 0\n",
      "[Running Sim]: Current step: 60\n",
      "[Running Sim]: Current step: 120\n",
      "[Running Sim]: Current step: 180\n",
      "[Running Sim]: Current step: 240\n",
      "[Running Sim]: Current step: 300\n",
      "[Running Sim]: Current step: 360\n",
      "[Running Sim]: Current step: 420\n",
      "[Running Sim]: Current step: 480\n",
      "[Running Sim]: Current step: 540\n",
      "[Simulator Info] Time required to run the simulation: 28.201514773998497 seconds.\n",
      "Running IoT SMAs\n",
      "Running GS SMAs\n",
      "Running SAT SMAs\n",
      "Running Summarizer\n",
      "num packets generated 55\n",
      "num packets received by gs 11\n",
      "num packets received by sat 39\n",
      "Results:  {'endToEndPLR': 0.8, 'generatorToSatPLR': 0.2909090909090909, 'satToGroundPLR': 0.717948717948718, 'endToEndLatency': 353.363636, 'generatorToSatLatency': 81.820512, 'satToGSLatency': 255.272727, 'generationRate': 0.09322033898305085, 'satelliteAggregationRate': 0.06610169491525424, 'gsAggregationRate': 0.01864406779661017}\n",
      "observation 3\n",
      "[Simulator Info] Computing FOVs...\n",
      "[Simulator Info] FOVs computed.\n",
      "[Running Sim]: Current step: 0\n",
      "[Running Sim]: Current step: 60\n",
      "[Running Sim]: Current step: 120\n",
      "[Running Sim]: Current step: 180\n",
      "[Running Sim]: Current step: 240\n",
      "[Running Sim]: Current step: 300\n",
      "[Running Sim]: Current step: 360\n",
      "[Running Sim]: Current step: 420\n",
      "[Running Sim]: Current step: 480\n",
      "[Running Sim]: Current step: 540\n",
      "[Simulator Info] Time required to run the simulation: 28.36494646599931 seconds.\n",
      "Running IoT SMAs\n",
      "Running GS SMAs\n",
      "Running SAT SMAs\n",
      "Running Summarizer\n",
      "num packets generated 53\n",
      "num packets received by gs 13\n",
      "num packets received by sat 42\n",
      "Results:  {'endToEndPLR': 0.7547169811320755, 'generatorToSatPLR': 0.20754716981132076, 'satToGroundPLR': 0.6904761904761905, 'endToEndLatency': 292.923076, 'generatorToSatLatency': 90.666666, 'satToGSLatency': 215.615384, 'generationRate': 0.09013605442176871, 'satelliteAggregationRate': 0.07142857142857142, 'gsAggregationRate': 0.022108843537414966}\n",
      "observation 4\n",
      "[Simulator Info] Computing FOVs...\n",
      "[Simulator Info] FOVs computed.\n",
      "[Running Sim]: Current step: 0\n",
      "[Running Sim]: Current step: 60\n",
      "[Running Sim]: Current step: 120\n",
      "[Running Sim]: Current step: 180\n",
      "[Running Sim]: Current step: 240\n",
      "[Running Sim]: Current step: 300\n",
      "[Running Sim]: Current step: 360\n",
      "[Running Sim]: Current step: 420\n",
      "[Running Sim]: Current step: 480\n",
      "[Running Sim]: Current step: 540\n",
      "[Simulator Info] Time required to run the simulation: 27.744182623000597 seconds.\n",
      "Running IoT SMAs\n",
      "Running GS SMAs\n",
      "Running SAT SMAs\n",
      "Running Summarizer\n",
      "num packets generated 54\n",
      "num packets received by gs 8\n",
      "num packets received by sat 38\n",
      "Results:  {'endToEndPLR': 0.8518518518518519, 'generatorToSatPLR': 0.2962962962962963, 'satToGroundPLR': 0.7894736842105263, 'endToEndLatency': 265.625, 'generatorToSatLatency': 72.342105, 'satToGSLatency': 194.0, 'generationRate': 0.09152542372881356, 'satelliteAggregationRate': 0.06440677966101695, 'gsAggregationRate': 0.013559322033898305}\n",
      "observation 5\n",
      "[Simulator Info] Computing FOVs...\n",
      "[Simulator Info] FOVs computed.\n",
      "[Running Sim]: Current step: 0\n",
      "[Running Sim]: Current step: 60\n",
      "[Running Sim]: Current step: 120\n",
      "[Running Sim]: Current step: 180\n",
      "[Running Sim]: Current step: 240\n",
      "[Running Sim]: Current step: 300\n",
      "[Running Sim]: Current step: 360\n",
      "[Running Sim]: Current step: 420\n",
      "[Running Sim]: Current step: 480\n",
      "[Running Sim]: Current step: 540\n",
      "[Simulator Info] Time required to run the simulation: 28.649648873999467 seconds.\n",
      "Running IoT SMAs\n",
      "Running GS SMAs\n",
      "Running SAT SMAs\n",
      "Running Summarizer\n",
      "num packets generated 62\n",
      "num packets received by gs 8\n",
      "num packets received by sat 49\n",
      "Results:  {'endToEndPLR': 0.8709677419354839, 'generatorToSatPLR': 0.20967741935483872, 'satToGroundPLR': 0.8367346938775511, 'endToEndLatency': 362.75, 'generatorToSatLatency': 121.836734, 'satToGSLatency': 299.5, 'generationRate': 0.1040268456375839, 'satelliteAggregationRate': 0.08221476510067115, 'gsAggregationRate': 0.013422818791946308}\n"
     ]
    },
    {
     "name": "stderr",
     "output_type": "stream",
     "text": [
      " 70%|███████   | 7/10 [21:19<10:58, 219.47s/it]"
     ]
    },
    {
     "name": "stdout",
     "output_type": "stream",
     "text": [
      "sample with 800 IoT devices\n",
      "observation 1\n",
      "[Simulator Info] Computing FOVs...\n",
      "[Simulator Info] FOVs computed.\n",
      "[Running Sim]: Current step: 0\n",
      "[Running Sim]: Current step: 60\n",
      "[Running Sim]: Current step: 120\n",
      "[Running Sim]: Current step: 180\n",
      "[Running Sim]: Current step: 240\n",
      "[Running Sim]: Current step: 300\n",
      "[Running Sim]: Current step: 360\n",
      "[Running Sim]: Current step: 420\n",
      "[Running Sim]: Current step: 480\n",
      "[Running Sim]: Current step: 540\n",
      "[Simulator Info] Time required to run the simulation: 32.79015322399937 seconds.\n",
      "Running IoT SMAs\n",
      "Running GS SMAs\n",
      "Running SAT SMAs\n",
      "Running Summarizer\n",
      "num packets generated 61\n",
      "num packets received by gs 10\n",
      "num packets received by sat 52\n",
      "Results:  {'endToEndPLR': 0.8360655737704918, 'generatorToSatPLR': 0.14754098360655737, 'satToGroundPLR': 0.8076923076923077, 'endToEndLatency': 305.2, 'generatorToSatLatency': 77.153846, 'satToGSLatency': 227.0, 'generationRate': 0.11070780399274047, 'satelliteAggregationRate': 0.09437386569872959, 'gsAggregationRate': 0.018148820326678767}\n",
      "observation 2\n",
      "[Simulator Info] Computing FOVs...\n",
      "[Simulator Info] FOVs computed.\n",
      "[Running Sim]: Current step: 0\n",
      "[Running Sim]: Current step: 60\n",
      "[Running Sim]: Current step: 120\n",
      "[Running Sim]: Current step: 180\n",
      "[Running Sim]: Current step: 240\n",
      "[Running Sim]: Current step: 300\n",
      "[Running Sim]: Current step: 360\n",
      "[Running Sim]: Current step: 420\n",
      "[Running Sim]: Current step: 480\n",
      "[Running Sim]: Current step: 540\n",
      "[Simulator Info] Time required to run the simulation: 31.081614970999 seconds.\n",
      "Running IoT SMAs\n",
      "Running GS SMAs\n",
      "Running SAT SMAs\n",
      "Running Summarizer\n",
      "num packets generated 46\n",
      "num packets received by gs 8\n",
      "num packets received by sat 36\n",
      "Results:  {'endToEndPLR': 0.8260869565217391, 'generatorToSatPLR': 0.21739130434782608, 'satToGroundPLR': 0.7777777777777778, 'endToEndLatency': 245.75, 'generatorToSatLatency': 75.555555, 'satToGSLatency': 187.25, 'generationRate': 0.07849829351535836, 'satelliteAggregationRate': 0.06143344709897611, 'gsAggregationRate': 0.013651877133105802}\n",
      "observation 3\n",
      "[Simulator Info] Computing FOVs...\n",
      "[Simulator Info] FOVs computed.\n",
      "[Running Sim]: Current step: 0\n",
      "[Running Sim]: Current step: 60\n",
      "[Running Sim]: Current step: 120\n",
      "[Running Sim]: Current step: 180\n",
      "[Running Sim]: Current step: 240\n",
      "[Running Sim]: Current step: 300\n",
      "[Running Sim]: Current step: 360\n",
      "[Running Sim]: Current step: 420\n",
      "[Running Sim]: Current step: 480\n",
      "[Running Sim]: Current step: 540\n",
      "[Simulator Info] Time required to run the simulation: 32.119307854 seconds.\n",
      "Running IoT SMAs\n",
      "Running GS SMAs\n",
      "Running SAT SMAs\n",
      "Running Summarizer\n",
      "num packets generated 51\n",
      "num packets received by gs 11\n",
      "num packets received by sat 40\n",
      "Results:  {'endToEndPLR': 0.7843137254901961, 'generatorToSatPLR': 0.21568627450980393, 'satToGroundPLR': 0.725, 'endToEndLatency': 319.363636, 'generatorToSatLatency': 105.4, 'satToGSLatency': 241.181818, 'generationRate': 0.08885017421602788, 'satelliteAggregationRate': 0.06968641114982578, 'gsAggregationRate': 0.01916376306620209}\n",
      "observation 4\n",
      "[Simulator Info] Computing FOVs...\n",
      "[Simulator Info] FOVs computed.\n",
      "[Running Sim]: Current step: 0\n",
      "[Running Sim]: Current step: 60\n",
      "[Running Sim]: Current step: 120\n",
      "[Running Sim]: Current step: 180\n",
      "[Running Sim]: Current step: 240\n",
      "[Running Sim]: Current step: 300\n",
      "[Running Sim]: Current step: 360\n",
      "[Running Sim]: Current step: 420\n",
      "[Running Sim]: Current step: 480\n",
      "[Running Sim]: Current step: 540\n",
      "[Simulator Info] Time required to run the simulation: 31.32088624899916 seconds.\n",
      "Running IoT SMAs\n",
      "Running GS SMAs\n",
      "Running SAT SMAs\n",
      "Running Summarizer\n",
      "num packets generated 44\n",
      "num packets received by gs 7\n",
      "num packets received by sat 37\n",
      "Results:  {'endToEndPLR': 0.8409090909090909, 'generatorToSatPLR': 0.1590909090909091, 'satToGroundPLR': 0.8108108108108109, 'endToEndLatency': 217.571428, 'generatorToSatLatency': 87.405405, 'satToGSLatency': 121.428571, 'generationRate': 0.07625649913344887, 'satelliteAggregationRate': 0.06412478336221837, 'gsAggregationRate': 0.012131715771230503}\n",
      "observation 5\n",
      "[Simulator Info] Computing FOVs...\n",
      "[Simulator Info] FOVs computed.\n",
      "[Running Sim]: Current step: 0\n",
      "[Running Sim]: Current step: 60\n",
      "[Running Sim]: Current step: 120\n",
      "[Running Sim]: Current step: 180\n",
      "[Running Sim]: Current step: 240\n",
      "[Running Sim]: Current step: 300\n",
      "[Running Sim]: Current step: 360\n",
      "[Running Sim]: Current step: 420\n",
      "[Running Sim]: Current step: 480\n",
      "[Running Sim]: Current step: 540\n",
      "[Simulator Info] Time required to run the simulation: 32.76043007699991 seconds.\n",
      "Running IoT SMAs\n",
      "Running GS SMAs\n",
      "Running SAT SMAs\n",
      "Running Summarizer\n",
      "num packets generated 63\n",
      "num packets received by gs 9\n",
      "num packets received by sat 49\n",
      "Results:  {'endToEndPLR': 0.8571428571428571, 'generatorToSatPLR': 0.2222222222222222, 'satToGroundPLR': 0.8163265306122449, 'endToEndLatency': 265.222222, 'generatorToSatLatency': 97.32653, 'satToGSLatency': 189.444444, 'generationRate': 0.109375, 'satelliteAggregationRate': 0.08506944444444445, 'gsAggregationRate': 0.015625}\n"
     ]
    },
    {
     "name": "stderr",
     "output_type": "stream",
     "text": [
      " 80%|████████  | 8/10 [26:27<08:15, 247.94s/it]"
     ]
    },
    {
     "name": "stdout",
     "output_type": "stream",
     "text": [
      "sample with 900 IoT devices\n",
      "observation 1\n",
      "[Simulator Info] Computing FOVs...\n",
      "[Simulator Info] FOVs computed.\n",
      "[Running Sim]: Current step: 0\n",
      "[Running Sim]: Current step: 60\n",
      "[Running Sim]: Current step: 120\n",
      "[Running Sim]: Current step: 180\n",
      "[Running Sim]: Current step: 240\n",
      "[Running Sim]: Current step: 300\n",
      "[Running Sim]: Current step: 360\n",
      "[Running Sim]: Current step: 420\n",
      "[Running Sim]: Current step: 480\n",
      "[Running Sim]: Current step: 540\n",
      "[Simulator Info] Time required to run the simulation: 35.53901073700035 seconds.\n",
      "Running IoT SMAs\n",
      "Running GS SMAs\n",
      "Running SAT SMAs\n",
      "Running Summarizer\n",
      "num packets generated 66\n",
      "num packets received by gs 14\n",
      "num packets received by sat 53\n",
      "Results:  {'endToEndPLR': 0.7878787878787878, 'generatorToSatPLR': 0.19696969696969696, 'satToGroundPLR': 0.7358490566037735, 'endToEndLatency': 306.428571, 'generatorToSatLatency': 89.622641, 'satToGSLatency': 235.5, 'generationRate': 0.11418685121107267, 'satelliteAggregationRate': 0.09169550173010381, 'gsAggregationRate': 0.02422145328719723}\n",
      "observation 2\n",
      "[Simulator Info] Computing FOVs...\n",
      "[Simulator Info] FOVs computed.\n",
      "[Running Sim]: Current step: 0\n",
      "[Running Sim]: Current step: 60\n",
      "[Running Sim]: Current step: 120\n",
      "[Running Sim]: Current step: 180\n",
      "[Running Sim]: Current step: 240\n",
      "[Running Sim]: Current step: 300\n",
      "[Running Sim]: Current step: 360\n",
      "[Running Sim]: Current step: 420\n",
      "[Running Sim]: Current step: 480\n",
      "[Running Sim]: Current step: 540\n",
      "[Simulator Info] Time required to run the simulation: 35.68786002500019 seconds.\n",
      "Running IoT SMAs\n",
      "Running GS SMAs\n",
      "Running SAT SMAs\n",
      "Running Summarizer\n",
      "num packets generated 49\n",
      "num packets received by gs 12\n",
      "num packets received by sat 39\n",
      "Results:  {'endToEndPLR': 0.7551020408163265, 'generatorToSatPLR': 0.20408163265306123, 'satToGroundPLR': 0.6923076923076923, 'endToEndLatency': 347.916666, 'generatorToSatLatency': 81.410256, 'satToGSLatency': 286.333333, 'generationRate': 0.08718861209964412, 'satelliteAggregationRate': 0.0693950177935943, 'gsAggregationRate': 0.021352313167259787}\n",
      "observation 3\n",
      "[Simulator Info] Computing FOVs...\n",
      "[Simulator Info] FOVs computed.\n",
      "[Running Sim]: Current step: 0\n",
      "[Running Sim]: Current step: 60\n",
      "[Running Sim]: Current step: 120\n",
      "[Running Sim]: Current step: 180\n",
      "[Running Sim]: Current step: 240\n",
      "[Running Sim]: Current step: 300\n",
      "[Running Sim]: Current step: 360\n",
      "[Running Sim]: Current step: 420\n",
      "[Running Sim]: Current step: 480\n",
      "[Running Sim]: Current step: 540\n",
      "[Simulator Info] Time required to run the simulation: 36.41326198399838 seconds.\n",
      "Running IoT SMAs\n",
      "Running GS SMAs\n",
      "Running SAT SMAs\n",
      "Running Summarizer\n",
      "num packets generated 66\n",
      "num packets received by gs 10\n",
      "num packets received by sat 49\n",
      "Results:  {'endToEndPLR': 0.8484848484848485, 'generatorToSatPLR': 0.25757575757575757, 'satToGroundPLR': 0.7959183673469388, 'endToEndLatency': 272.9, 'generatorToSatLatency': 90.387755, 'satToGSLatency': 170.1, 'generationRate': 0.11243611584327087, 'satelliteAggregationRate': 0.08347529812606473, 'gsAggregationRate': 0.017035775127768313}\n",
      "observation 4\n",
      "[Simulator Info] Computing FOVs...\n",
      "[Simulator Info] FOVs computed.\n",
      "[Running Sim]: Current step: 0\n",
      "[Running Sim]: Current step: 60\n",
      "[Running Sim]: Current step: 120\n",
      "[Running Sim]: Current step: 180\n",
      "[Running Sim]: Current step: 240\n",
      "[Running Sim]: Current step: 300\n",
      "[Running Sim]: Current step: 360\n",
      "[Running Sim]: Current step: 420\n",
      "[Running Sim]: Current step: 480\n",
      "[Running Sim]: Current step: 540\n",
      "[Simulator Info] Time required to run the simulation: 35.09642675299983 seconds.\n",
      "Running IoT SMAs\n",
      "Running GS SMAs\n",
      "Running SAT SMAs\n",
      "Running Summarizer\n",
      "num packets generated 48\n",
      "num packets received by gs 8\n",
      "num packets received by sat 43\n",
      "Results:  {'endToEndPLR': 0.8333333333333334, 'generatorToSatPLR': 0.10416666666666667, 'satToGroundPLR': 0.813953488372093, 'endToEndLatency': 265.875, 'generatorToSatLatency': 66.813953, 'satToGSLatency': 206.0, 'generationRate': 0.08571428571428572, 'satelliteAggregationRate': 0.07678571428571429, 'gsAggregationRate': 0.014285714285714285}\n",
      "observation 5\n",
      "[Simulator Info] Computing FOVs...\n",
      "[Simulator Info] FOVs computed.\n",
      "[Running Sim]: Current step: 0\n",
      "[Running Sim]: Current step: 60\n",
      "[Running Sim]: Current step: 120\n",
      "[Running Sim]: Current step: 180\n",
      "[Running Sim]: Current step: 240\n",
      "[Running Sim]: Current step: 300\n",
      "[Running Sim]: Current step: 360\n",
      "[Running Sim]: Current step: 420\n",
      "[Running Sim]: Current step: 480\n",
      "[Running Sim]: Current step: 540\n",
      "[Simulator Info] Time required to run the simulation: 36.27230317499925 seconds.\n",
      "Running IoT SMAs\n",
      "Running GS SMAs\n",
      "Running SAT SMAs\n",
      "Running Summarizer\n",
      "num packets generated 73\n",
      "num packets received by gs 13\n",
      "num packets received by sat 59\n",
      "Results:  {'endToEndPLR': 0.821917808219178, 'generatorToSatPLR': 0.1917808219178082, 'satToGroundPLR': 0.7796610169491526, 'endToEndLatency': 302.76923, 'generatorToSatLatency': 85.711864, 'satToGSLatency': 208.0, 'generationRate': 0.12521440823327615, 'satelliteAggregationRate': 0.10120068610634649, 'gsAggregationRate': 0.022298456260720412}\n"
     ]
    },
    {
     "name": "stderr",
     "output_type": "stream",
     "text": [
      " 90%|█████████ | 9/10 [32:08<04:36, 276.78s/it]"
     ]
    },
    {
     "name": "stdout",
     "output_type": "stream",
     "text": [
      "sample with 1000 IoT devices\n",
      "observation 1\n",
      "[Simulator Info] Computing FOVs...\n",
      "[Simulator Info] FOVs computed.\n",
      "[Running Sim]: Current step: 0\n",
      "[Running Sim]: Current step: 60\n",
      "[Running Sim]: Current step: 120\n",
      "[Running Sim]: Current step: 180\n",
      "[Running Sim]: Current step: 240\n",
      "[Running Sim]: Current step: 300\n",
      "[Running Sim]: Current step: 360\n",
      "[Running Sim]: Current step: 420\n",
      "[Running Sim]: Current step: 480\n",
      "[Running Sim]: Current step: 540\n",
      "[Simulator Info] Time required to run the simulation: 39.83536475799883 seconds.\n",
      "Running IoT SMAs\n",
      "Running GS SMAs\n",
      "Running SAT SMAs\n",
      "Running Summarizer\n",
      "num packets generated 71\n",
      "num packets received by gs 6\n",
      "num packets received by sat 50\n",
      "Results:  {'endToEndPLR': 0.9154929577464789, 'generatorToSatPLR': 0.29577464788732394, 'satToGroundPLR': 0.88, 'endToEndLatency': 234.333333, 'generatorToSatLatency': 79.52, 'satToGSLatency': 163.666666, 'generationRate': 0.12116040955631399, 'satelliteAggregationRate': 0.08532423208191127, 'gsAggregationRate': 0.010238907849829351}\n",
      "observation 2\n",
      "[Simulator Info] Computing FOVs...\n",
      "[Simulator Info] FOVs computed.\n",
      "[Running Sim]: Current step: 0\n",
      "[Running Sim]: Current step: 60\n",
      "[Running Sim]: Current step: 120\n",
      "[Running Sim]: Current step: 180\n",
      "[Running Sim]: Current step: 240\n",
      "[Running Sim]: Current step: 300\n",
      "[Running Sim]: Current step: 360\n",
      "[Running Sim]: Current step: 420\n",
      "[Running Sim]: Current step: 480\n",
      "[Running Sim]: Current step: 540\n",
      "[Simulator Info] Time required to run the simulation: 39.81892771800085 seconds.\n",
      "Running IoT SMAs\n",
      "Running GS SMAs\n",
      "Running SAT SMAs\n",
      "Running Summarizer\n",
      "num packets generated 74\n",
      "num packets received by gs 16\n",
      "num packets received by sat 61\n",
      "Results:  {'endToEndPLR': 0.7837837837837838, 'generatorToSatPLR': 0.17567567567567569, 'satToGroundPLR': 0.7377049180327869, 'endToEndLatency': 322.6875, 'generatorToSatLatency': 97.934426, 'satToGSLatency': 250.0625, 'generationRate': 0.125, 'satelliteAggregationRate': 0.10304054054054054, 'gsAggregationRate': 0.02702702702702703}\n",
      "observation 3\n",
      "[Simulator Info] Computing FOVs...\n",
      "[Simulator Info] FOVs computed.\n",
      "[Running Sim]: Current step: 0\n",
      "[Running Sim]: Current step: 60\n",
      "[Running Sim]: Current step: 120\n",
      "[Running Sim]: Current step: 180\n",
      "[Running Sim]: Current step: 240\n",
      "[Running Sim]: Current step: 300\n",
      "[Running Sim]: Current step: 360\n",
      "[Running Sim]: Current step: 420\n",
      "[Running Sim]: Current step: 480\n",
      "[Running Sim]: Current step: 540\n",
      "[Simulator Info] Time required to run the simulation: 39.373160021999865 seconds.\n",
      "Running IoT SMAs\n",
      "Running GS SMAs\n",
      "Running SAT SMAs\n",
      "Running Summarizer\n",
      "num packets generated 61\n",
      "num packets received by gs 10\n",
      "num packets received by sat 46\n",
      "Results:  {'endToEndPLR': 0.8360655737704918, 'generatorToSatPLR': 0.2459016393442623, 'satToGroundPLR': 0.782608695652174, 'endToEndLatency': 301.8, 'generatorToSatLatency': 76.652173, 'satToGSLatency': 246.5, 'generationRate': 0.10338983050847457, 'satelliteAggregationRate': 0.07796610169491526, 'gsAggregationRate': 0.01694915254237288}\n",
      "observation 4\n",
      "[Simulator Info] Computing FOVs...\n",
      "[Simulator Info] FOVs computed.\n",
      "[Running Sim]: Current step: 0\n",
      "[Running Sim]: Current step: 60\n",
      "[Running Sim]: Current step: 120\n",
      "[Running Sim]: Current step: 180\n",
      "[Running Sim]: Current step: 240\n",
      "[Running Sim]: Current step: 300\n",
      "[Running Sim]: Current step: 360\n",
      "[Running Sim]: Current step: 420\n",
      "[Running Sim]: Current step: 480\n",
      "[Running Sim]: Current step: 540\n",
      "[Simulator Info] Time required to run the simulation: 40.660891831999834 seconds.\n",
      "Running IoT SMAs\n",
      "Running GS SMAs\n",
      "Running SAT SMAs\n",
      "Running Summarizer\n",
      "num packets generated 66\n",
      "num packets received by gs 14\n",
      "num packets received by sat 54\n",
      "Results:  {'endToEndPLR': 0.7878787878787878, 'generatorToSatPLR': 0.18181818181818182, 'satToGroundPLR': 0.7407407407407407, 'endToEndLatency': 296.571428, 'generatorToSatLatency': 89.611111, 'satToGSLatency': 215.285714, 'generationRate': 0.11262798634812286, 'satelliteAggregationRate': 0.09215017064846416, 'gsAggregationRate': 0.023890784982935155}\n",
      "observation 5\n",
      "[Simulator Info] Computing FOVs...\n",
      "[Simulator Info] FOVs computed.\n",
      "[Running Sim]: Current step: 0\n",
      "[Running Sim]: Current step: 60\n",
      "[Running Sim]: Current step: 120\n",
      "[Running Sim]: Current step: 180\n",
      "[Running Sim]: Current step: 240\n",
      "[Running Sim]: Current step: 300\n",
      "[Running Sim]: Current step: 360\n",
      "[Running Sim]: Current step: 420\n",
      "[Running Sim]: Current step: 480\n",
      "[Running Sim]: Current step: 540\n",
      "[Simulator Info] Time required to run the simulation: 40.300262418000784 seconds.\n",
      "Running IoT SMAs\n",
      "Running GS SMAs\n",
      "Running SAT SMAs\n",
      "Running Summarizer\n",
      "num packets generated 62\n",
      "num packets received by gs 9\n",
      "num packets received by sat 49\n",
      "Results:  {'endToEndPLR': 0.8548387096774194, 'generatorToSatPLR': 0.20967741935483872, 'satToGroundPLR': 0.8163265306122449, 'endToEndLatency': 294.0, 'generatorToSatLatency': 103.081632, 'satToGSLatency': 217.666666, 'generationRate': 0.10896309314586995, 'satelliteAggregationRate': 0.08611599297012303, 'gsAggregationRate': 0.015817223198594025}\n"
     ]
    },
    {
     "name": "stderr",
     "output_type": "stream",
     "text": [
      "100%|██████████| 10/10 [38:20<00:00, 230.02s/it]\n"
     ]
    }
   ],
   "source": [
    "status = True\n",
    "values_df = []\n",
    "for sample in tqdm(range(100,1001,100)):\n",
    "    print(f\"sample with {sample} IoT devices\")\n",
    "    for i,base in enumerate(os.listdir('observations')):\n",
    "        print(f\"observation {i+1}\")\n",
    "        dir = os.path.join('observations',base,f\"iot_{sample}_config.json\")\n",
    "        # for past experiment we must deleted past files.\n",
    "        if os.path.exists('exampleLogs/'):\n",
    "            shutil.rmtree('exampleLogs/')\n",
    "        # this commad create an exampleLogs folders\n",
    "        cmd1 = f\"python examples/iotnetwork.py {dir}\"\n",
    "        resultado = subprocess.run(cmd1, shell=True, check=True)\n",
    "        cmd2 = f\"python -Wignore examples/analytics_samples/analyze_datalayer.py exampleLogs/ default\"\n",
    "        try:\n",
    "            resultado = subprocess.run(cmd2, shell=True, check=True)\n",
    "            df = pd.read_csv(os.path.join(os.getcwd(),\"results\",\"iot\",\"default.csv\"),index_col=False)\n",
    "            df[\"observation\"] = f\"{i+1}\"\n",
    "            df[\"n_iot\"] = f\"{sample}\"\n",
    "            values_df.append(df)\n",
    "        except:\n",
    "            print(\"Stopping program ...\")\n",
    "            status = False\n",
    "            break\n",
    "        if len(values_df)>1:\n",
    "            df_final = pd.concat(values_df).reset_index(drop=True)\n",
    "            df_final.to_csv(os.path.join(os.getcwd(),\"results\",\"iot\",\"summary_iot.csv\"),index=False)\n",
    "    if status != True:\n",
    "        print(dir)\n",
    "        print(\"Stopped\")\n",
    "        break\n",
    "        "
   ]
  },
  {
   "cell_type": "code",
   "execution_count": 17,
   "metadata": {},
   "outputs": [
    {
     "data": {
      "text/plain": [
       "1"
      ]
     },
     "execution_count": 17,
     "metadata": {},
     "output_type": "execute_result"
    }
   ],
   "source": [
    "len(values_df)"
   ]
  },
  {
   "cell_type": "code",
   "execution_count": 4,
   "metadata": {},
   "outputs": [],
   "source": [
    "list_pandas =  [pd.read_csv(f\"src/results/iot_{i}.csv\",index_col=False) for i in range(100,1001,100)]"
   ]
  },
  {
   "cell_type": "code",
   "execution_count": 5,
   "metadata": {},
   "outputs": [],
   "source": [
    "summary = pd.concat(list_pandas)"
   ]
  },
  {
   "cell_type": "code",
   "execution_count": 7,
   "metadata": {},
   "outputs": [],
   "source": [
    "summary['iot'] = list(range(100,1001,100))"
   ]
  },
  {
   "cell_type": "code",
   "execution_count": 9,
   "metadata": {},
   "outputs": [
    {
     "data": {
      "text/plain": [
       "Index(['Unnamed: 0', 'endToEndPLR', 'generatorToSatPLR', 'satToGroundPLR',\n",
       "       'endToEndLatency', 'generatorToSatLatency', 'satToGSLatency',\n",
       "       'generationRate', 'satelliteAggregationRate', 'gsAggregationRate',\n",
       "       'iot'],\n",
       "      dtype='object')"
      ]
     },
     "execution_count": 9,
     "metadata": {},
     "output_type": "execute_result"
    }
   ],
   "source": [
    "summary.keys()"
   ]
  },
  {
   "cell_type": "code",
   "execution_count": 10,
   "metadata": {},
   "outputs": [],
   "source": [
    "list_fields = list(summary.keys())"
   ]
  },
  {
   "cell_type": "code",
   "execution_count": 11,
   "metadata": {},
   "outputs": [
    {
     "data": {
      "text/plain": [
       "'Unnamed: 0'"
      ]
     },
     "execution_count": 11,
     "metadata": {},
     "output_type": "execute_result"
    }
   ],
   "source": [
    "list_fields.pop(0)"
   ]
  },
  {
   "cell_type": "code",
   "execution_count": 13,
   "metadata": {},
   "outputs": [],
   "source": [
    "list_fields.reverse()"
   ]
  },
  {
   "cell_type": "code",
   "execution_count": 14,
   "metadata": {},
   "outputs": [
    {
     "data": {
      "text/plain": [
       "['iot',\n",
       " 'gsAggregationRate',\n",
       " 'satelliteAggregationRate',\n",
       " 'generationRate',\n",
       " 'satToGSLatency',\n",
       " 'generatorToSatLatency',\n",
       " 'endToEndLatency',\n",
       " 'satToGroundPLR',\n",
       " 'generatorToSatPLR',\n",
       " 'endToEndPLR']"
      ]
     },
     "execution_count": 14,
     "metadata": {},
     "output_type": "execute_result"
    }
   ],
   "source": [
    "list_fields"
   ]
  },
  {
   "cell_type": "code",
   "execution_count": 15,
   "metadata": {},
   "outputs": [],
   "source": [
    "summary = summary[list_fields]"
   ]
  },
  {
   "cell_type": "code",
   "execution_count": 22,
   "metadata": {},
   "outputs": [],
   "source": [
    "summary.to_csv(\"summary_file.csv\",index=False)"
   ]
  },
  {
   "cell_type": "code",
   "execution_count": 22,
   "metadata": {},
   "outputs": [],
   "source": [
    "summary = pd.read_csv(\"results/iot/summary_iot.csv\",index_col=False)"
   ]
  },
  {
   "cell_type": "code",
   "execution_count": 26,
   "metadata": {},
   "outputs": [],
   "source": [
    "medias_por_grupo = summary.groupby('n_iot').mean().reset_index()"
   ]
  },
  {
   "cell_type": "code",
   "execution_count": 27,
   "metadata": {},
   "outputs": [
    {
     "data": {
      "text/html": [
       "<div>\n",
       "<style scoped>\n",
       "    .dataframe tbody tr th:only-of-type {\n",
       "        vertical-align: middle;\n",
       "    }\n",
       "\n",
       "    .dataframe tbody tr th {\n",
       "        vertical-align: top;\n",
       "    }\n",
       "\n",
       "    .dataframe thead th {\n",
       "        text-align: right;\n",
       "    }\n",
       "</style>\n",
       "<table border=\"1\" class=\"dataframe\">\n",
       "  <thead>\n",
       "    <tr style=\"text-align: right;\">\n",
       "      <th></th>\n",
       "      <th>n_iot</th>\n",
       "      <th>endToEndPLR</th>\n",
       "      <th>generatorToSatPLR</th>\n",
       "      <th>satToGroundPLR</th>\n",
       "      <th>endToEndLatency</th>\n",
       "      <th>generatorToSatLatency</th>\n",
       "      <th>satToGSLatency</th>\n",
       "      <th>generationRate</th>\n",
       "      <th>satelliteAggregationRate</th>\n",
       "      <th>gsAggregationRate</th>\n",
       "      <th>observation</th>\n",
       "    </tr>\n",
       "  </thead>\n",
       "  <tbody>\n",
       "    <tr>\n",
       "      <th>0</th>\n",
       "      <td>100</td>\n",
       "      <td>0.670000</td>\n",
       "      <td>0.152381</td>\n",
       "      <td>0.589762</td>\n",
       "      <td>193.750000</td>\n",
       "      <td>73.532143</td>\n",
       "      <td>114.716667</td>\n",
       "      <td>0.019793</td>\n",
       "      <td>0.016922</td>\n",
       "      <td>0.006567</td>\n",
       "      <td>3.0</td>\n",
       "    </tr>\n",
       "    <tr>\n",
       "      <th>1</th>\n",
       "      <td>200</td>\n",
       "      <td>0.700247</td>\n",
       "      <td>0.133269</td>\n",
       "      <td>0.657493</td>\n",
       "      <td>235.243333</td>\n",
       "      <td>65.765317</td>\n",
       "      <td>178.240000</td>\n",
       "      <td>0.025650</td>\n",
       "      <td>0.021989</td>\n",
       "      <td>0.007516</td>\n",
       "      <td>3.0</td>\n",
       "    </tr>\n",
       "    <tr>\n",
       "      <th>2</th>\n",
       "      <td>300</td>\n",
       "      <td>0.807173</td>\n",
       "      <td>0.181729</td>\n",
       "      <td>0.767843</td>\n",
       "      <td>273.783333</td>\n",
       "      <td>78.487908</td>\n",
       "      <td>189.210000</td>\n",
       "      <td>0.037513</td>\n",
       "      <td>0.030601</td>\n",
       "      <td>0.007116</td>\n",
       "      <td>3.0</td>\n",
       "    </tr>\n",
       "    <tr>\n",
       "      <th>3</th>\n",
       "      <td>400</td>\n",
       "      <td>0.792646</td>\n",
       "      <td>0.242411</td>\n",
       "      <td>0.727993</td>\n",
       "      <td>217.683333</td>\n",
       "      <td>80.532241</td>\n",
       "      <td>133.005555</td>\n",
       "      <td>0.050846</td>\n",
       "      <td>0.038740</td>\n",
       "      <td>0.010625</td>\n",
       "      <td>3.0</td>\n",
       "    </tr>\n",
       "    <tr>\n",
       "      <th>4</th>\n",
       "      <td>500</td>\n",
       "      <td>0.794331</td>\n",
       "      <td>0.170879</td>\n",
       "      <td>0.753592</td>\n",
       "      <td>256.238889</td>\n",
       "      <td>78.828478</td>\n",
       "      <td>178.938889</td>\n",
       "      <td>0.065825</td>\n",
       "      <td>0.054586</td>\n",
       "      <td>0.013053</td>\n",
       "      <td>3.0</td>\n",
       "    </tr>\n",
       "    <tr>\n",
       "      <th>5</th>\n",
       "      <td>600</td>\n",
       "      <td>0.788237</td>\n",
       "      <td>0.216440</td>\n",
       "      <td>0.730594</td>\n",
       "      <td>267.771746</td>\n",
       "      <td>84.603067</td>\n",
       "      <td>191.636508</td>\n",
       "      <td>0.065950</td>\n",
       "      <td>0.051428</td>\n",
       "      <td>0.013866</td>\n",
       "      <td>3.0</td>\n",
       "    </tr>\n",
       "    <tr>\n",
       "      <th>6</th>\n",
       "      <td>700</td>\n",
       "      <td>0.816911</td>\n",
       "      <td>0.235974</td>\n",
       "      <td>0.760118</td>\n",
       "      <td>318.586888</td>\n",
       "      <td>91.814054</td>\n",
       "      <td>243.768531</td>\n",
       "      <td>0.095608</td>\n",
       "      <td>0.073178</td>\n",
       "      <td>0.017373</td>\n",
       "      <td>3.0</td>\n",
       "    </tr>\n",
       "    <tr>\n",
       "      <th>7</th>\n",
       "      <td>800</td>\n",
       "      <td>0.828904</td>\n",
       "      <td>0.192386</td>\n",
       "      <td>0.787521</td>\n",
       "      <td>270.621457</td>\n",
       "      <td>88.568267</td>\n",
       "      <td>193.260967</td>\n",
       "      <td>0.092738</td>\n",
       "      <td>0.074938</td>\n",
       "      <td>0.015744</td>\n",
       "      <td>3.0</td>\n",
       "    </tr>\n",
       "    <tr>\n",
       "      <th>8</th>\n",
       "      <td>900</td>\n",
       "      <td>0.809343</td>\n",
       "      <td>0.190915</td>\n",
       "      <td>0.763538</td>\n",
       "      <td>299.177893</td>\n",
       "      <td>82.789294</td>\n",
       "      <td>221.186667</td>\n",
       "      <td>0.104948</td>\n",
       "      <td>0.084510</td>\n",
       "      <td>0.019839</td>\n",
       "      <td>3.0</td>\n",
       "    </tr>\n",
       "    <tr>\n",
       "      <th>9</th>\n",
       "      <td>1000</td>\n",
       "      <td>0.835612</td>\n",
       "      <td>0.221770</td>\n",
       "      <td>0.791476</td>\n",
       "      <td>289.878452</td>\n",
       "      <td>89.359868</td>\n",
       "      <td>218.636309</td>\n",
       "      <td>0.114228</td>\n",
       "      <td>0.088919</td>\n",
       "      <td>0.018785</td>\n",
       "      <td>3.0</td>\n",
       "    </tr>\n",
       "  </tbody>\n",
       "</table>\n",
       "</div>"
      ],
      "text/plain": [
       "   n_iot  endToEndPLR  generatorToSatPLR  satToGroundPLR  endToEndLatency  \\\n",
       "0    100     0.670000           0.152381        0.589762       193.750000   \n",
       "1    200     0.700247           0.133269        0.657493       235.243333   \n",
       "2    300     0.807173           0.181729        0.767843       273.783333   \n",
       "3    400     0.792646           0.242411        0.727993       217.683333   \n",
       "4    500     0.794331           0.170879        0.753592       256.238889   \n",
       "5    600     0.788237           0.216440        0.730594       267.771746   \n",
       "6    700     0.816911           0.235974        0.760118       318.586888   \n",
       "7    800     0.828904           0.192386        0.787521       270.621457   \n",
       "8    900     0.809343           0.190915        0.763538       299.177893   \n",
       "9   1000     0.835612           0.221770        0.791476       289.878452   \n",
       "\n",
       "   generatorToSatLatency  satToGSLatency  generationRate  \\\n",
       "0              73.532143      114.716667        0.019793   \n",
       "1              65.765317      178.240000        0.025650   \n",
       "2              78.487908      189.210000        0.037513   \n",
       "3              80.532241      133.005555        0.050846   \n",
       "4              78.828478      178.938889        0.065825   \n",
       "5              84.603067      191.636508        0.065950   \n",
       "6              91.814054      243.768531        0.095608   \n",
       "7              88.568267      193.260967        0.092738   \n",
       "8              82.789294      221.186667        0.104948   \n",
       "9              89.359868      218.636309        0.114228   \n",
       "\n",
       "   satelliteAggregationRate  gsAggregationRate  observation  \n",
       "0                  0.016922           0.006567          3.0  \n",
       "1                  0.021989           0.007516          3.0  \n",
       "2                  0.030601           0.007116          3.0  \n",
       "3                  0.038740           0.010625          3.0  \n",
       "4                  0.054586           0.013053          3.0  \n",
       "5                  0.051428           0.013866          3.0  \n",
       "6                  0.073178           0.017373          3.0  \n",
       "7                  0.074938           0.015744          3.0  \n",
       "8                  0.084510           0.019839          3.0  \n",
       "9                  0.088919           0.018785          3.0  "
      ]
     },
     "execution_count": 27,
     "metadata": {},
     "output_type": "execute_result"
    }
   ],
   "source": [
    "medias_por_grupo"
   ]
  },
  {
   "cell_type": "code",
   "execution_count": 28,
   "metadata": {},
   "outputs": [
    {
     "data": {
      "application/vnd.plotly.v1+json": {
       "config": {
        "plotlyServerURL": "https://plot.ly"
       },
       "data": [
        {
         "mode": "lines",
         "name": "satToGSLatency",
         "type": "scatter",
         "x": [
          100,
          200,
          300,
          400,
          500,
          600,
          700,
          800,
          900,
          1000
         ],
         "y": [
          114.71666660000001,
          178.2399998,
          189.20999980000002,
          133.0055554,
          178.93888859999998,
          191.63650760000002,
          243.7685312,
          193.26096660000002,
          221.1866666,
          218.6363092
         ]
        },
        {
         "mode": "lines",
         "name": "generatorToSatLatency",
         "type": "scatter",
         "x": [
          100,
          200,
          300,
          400,
          500,
          600,
          700,
          800,
          900,
          1000
         ],
         "y": [
          73.5321428,
          65.76531739999999,
          78.48790819999999,
          80.532241,
          78.8284778,
          84.603067,
          91.8140544,
          88.56826720000001,
          82.7892938,
          89.35986840000001
         ]
        },
        {
         "mode": "lines",
         "name": "endToEndLatency",
         "type": "scatter",
         "x": [
          100,
          200,
          300,
          400,
          500,
          600,
          700,
          800,
          900,
          1000
         ],
         "y": [
          193.75,
          235.2433332,
          273.7833332,
          217.68333320000002,
          256.2388888,
          267.7717458,
          318.5868878,
          270.6214572,
          299.1778934,
          289.87845219999997
         ]
        }
       ],
       "layout": {
        "legend": {
         "orientation": "h",
         "x": 1,
         "xanchor": "right",
         "y": 1.02,
         "yanchor": "bottom"
        },
        "margin": {
         "b": 20,
         "l": 20,
         "r": 20,
         "t": 20
        },
        "template": {
         "data": {
          "bar": [
           {
            "error_x": {
             "color": "#2a3f5f"
            },
            "error_y": {
             "color": "#2a3f5f"
            },
            "marker": {
             "line": {
              "color": "#E5ECF6",
              "width": 0.5
             },
             "pattern": {
              "fillmode": "overlay",
              "size": 10,
              "solidity": 0.2
             }
            },
            "type": "bar"
           }
          ],
          "barpolar": [
           {
            "marker": {
             "line": {
              "color": "#E5ECF6",
              "width": 0.5
             },
             "pattern": {
              "fillmode": "overlay",
              "size": 10,
              "solidity": 0.2
             }
            },
            "type": "barpolar"
           }
          ],
          "carpet": [
           {
            "aaxis": {
             "endlinecolor": "#2a3f5f",
             "gridcolor": "white",
             "linecolor": "white",
             "minorgridcolor": "white",
             "startlinecolor": "#2a3f5f"
            },
            "baxis": {
             "endlinecolor": "#2a3f5f",
             "gridcolor": "white",
             "linecolor": "white",
             "minorgridcolor": "white",
             "startlinecolor": "#2a3f5f"
            },
            "type": "carpet"
           }
          ],
          "choropleth": [
           {
            "colorbar": {
             "outlinewidth": 0,
             "ticks": ""
            },
            "type": "choropleth"
           }
          ],
          "contour": [
           {
            "colorbar": {
             "outlinewidth": 0,
             "ticks": ""
            },
            "colorscale": [
             [
              0,
              "#0d0887"
             ],
             [
              0.1111111111111111,
              "#46039f"
             ],
             [
              0.2222222222222222,
              "#7201a8"
             ],
             [
              0.3333333333333333,
              "#9c179e"
             ],
             [
              0.4444444444444444,
              "#bd3786"
             ],
             [
              0.5555555555555556,
              "#d8576b"
             ],
             [
              0.6666666666666666,
              "#ed7953"
             ],
             [
              0.7777777777777778,
              "#fb9f3a"
             ],
             [
              0.8888888888888888,
              "#fdca26"
             ],
             [
              1,
              "#f0f921"
             ]
            ],
            "type": "contour"
           }
          ],
          "contourcarpet": [
           {
            "colorbar": {
             "outlinewidth": 0,
             "ticks": ""
            },
            "type": "contourcarpet"
           }
          ],
          "heatmap": [
           {
            "colorbar": {
             "outlinewidth": 0,
             "ticks": ""
            },
            "colorscale": [
             [
              0,
              "#0d0887"
             ],
             [
              0.1111111111111111,
              "#46039f"
             ],
             [
              0.2222222222222222,
              "#7201a8"
             ],
             [
              0.3333333333333333,
              "#9c179e"
             ],
             [
              0.4444444444444444,
              "#bd3786"
             ],
             [
              0.5555555555555556,
              "#d8576b"
             ],
             [
              0.6666666666666666,
              "#ed7953"
             ],
             [
              0.7777777777777778,
              "#fb9f3a"
             ],
             [
              0.8888888888888888,
              "#fdca26"
             ],
             [
              1,
              "#f0f921"
             ]
            ],
            "type": "heatmap"
           }
          ],
          "heatmapgl": [
           {
            "colorbar": {
             "outlinewidth": 0,
             "ticks": ""
            },
            "colorscale": [
             [
              0,
              "#0d0887"
             ],
             [
              0.1111111111111111,
              "#46039f"
             ],
             [
              0.2222222222222222,
              "#7201a8"
             ],
             [
              0.3333333333333333,
              "#9c179e"
             ],
             [
              0.4444444444444444,
              "#bd3786"
             ],
             [
              0.5555555555555556,
              "#d8576b"
             ],
             [
              0.6666666666666666,
              "#ed7953"
             ],
             [
              0.7777777777777778,
              "#fb9f3a"
             ],
             [
              0.8888888888888888,
              "#fdca26"
             ],
             [
              1,
              "#f0f921"
             ]
            ],
            "type": "heatmapgl"
           }
          ],
          "histogram": [
           {
            "marker": {
             "pattern": {
              "fillmode": "overlay",
              "size": 10,
              "solidity": 0.2
             }
            },
            "type": "histogram"
           }
          ],
          "histogram2d": [
           {
            "colorbar": {
             "outlinewidth": 0,
             "ticks": ""
            },
            "colorscale": [
             [
              0,
              "#0d0887"
             ],
             [
              0.1111111111111111,
              "#46039f"
             ],
             [
              0.2222222222222222,
              "#7201a8"
             ],
             [
              0.3333333333333333,
              "#9c179e"
             ],
             [
              0.4444444444444444,
              "#bd3786"
             ],
             [
              0.5555555555555556,
              "#d8576b"
             ],
             [
              0.6666666666666666,
              "#ed7953"
             ],
             [
              0.7777777777777778,
              "#fb9f3a"
             ],
             [
              0.8888888888888888,
              "#fdca26"
             ],
             [
              1,
              "#f0f921"
             ]
            ],
            "type": "histogram2d"
           }
          ],
          "histogram2dcontour": [
           {
            "colorbar": {
             "outlinewidth": 0,
             "ticks": ""
            },
            "colorscale": [
             [
              0,
              "#0d0887"
             ],
             [
              0.1111111111111111,
              "#46039f"
             ],
             [
              0.2222222222222222,
              "#7201a8"
             ],
             [
              0.3333333333333333,
              "#9c179e"
             ],
             [
              0.4444444444444444,
              "#bd3786"
             ],
             [
              0.5555555555555556,
              "#d8576b"
             ],
             [
              0.6666666666666666,
              "#ed7953"
             ],
             [
              0.7777777777777778,
              "#fb9f3a"
             ],
             [
              0.8888888888888888,
              "#fdca26"
             ],
             [
              1,
              "#f0f921"
             ]
            ],
            "type": "histogram2dcontour"
           }
          ],
          "mesh3d": [
           {
            "colorbar": {
             "outlinewidth": 0,
             "ticks": ""
            },
            "type": "mesh3d"
           }
          ],
          "parcoords": [
           {
            "line": {
             "colorbar": {
              "outlinewidth": 0,
              "ticks": ""
             }
            },
            "type": "parcoords"
           }
          ],
          "pie": [
           {
            "automargin": true,
            "type": "pie"
           }
          ],
          "scatter": [
           {
            "fillpattern": {
             "fillmode": "overlay",
             "size": 10,
             "solidity": 0.2
            },
            "type": "scatter"
           }
          ],
          "scatter3d": [
           {
            "line": {
             "colorbar": {
              "outlinewidth": 0,
              "ticks": ""
             }
            },
            "marker": {
             "colorbar": {
              "outlinewidth": 0,
              "ticks": ""
             }
            },
            "type": "scatter3d"
           }
          ],
          "scattercarpet": [
           {
            "marker": {
             "colorbar": {
              "outlinewidth": 0,
              "ticks": ""
             }
            },
            "type": "scattercarpet"
           }
          ],
          "scattergeo": [
           {
            "marker": {
             "colorbar": {
              "outlinewidth": 0,
              "ticks": ""
             }
            },
            "type": "scattergeo"
           }
          ],
          "scattergl": [
           {
            "marker": {
             "colorbar": {
              "outlinewidth": 0,
              "ticks": ""
             }
            },
            "type": "scattergl"
           }
          ],
          "scattermapbox": [
           {
            "marker": {
             "colorbar": {
              "outlinewidth": 0,
              "ticks": ""
             }
            },
            "type": "scattermapbox"
           }
          ],
          "scatterpolar": [
           {
            "marker": {
             "colorbar": {
              "outlinewidth": 0,
              "ticks": ""
             }
            },
            "type": "scatterpolar"
           }
          ],
          "scatterpolargl": [
           {
            "marker": {
             "colorbar": {
              "outlinewidth": 0,
              "ticks": ""
             }
            },
            "type": "scatterpolargl"
           }
          ],
          "scatterternary": [
           {
            "marker": {
             "colorbar": {
              "outlinewidth": 0,
              "ticks": ""
             }
            },
            "type": "scatterternary"
           }
          ],
          "surface": [
           {
            "colorbar": {
             "outlinewidth": 0,
             "ticks": ""
            },
            "colorscale": [
             [
              0,
              "#0d0887"
             ],
             [
              0.1111111111111111,
              "#46039f"
             ],
             [
              0.2222222222222222,
              "#7201a8"
             ],
             [
              0.3333333333333333,
              "#9c179e"
             ],
             [
              0.4444444444444444,
              "#bd3786"
             ],
             [
              0.5555555555555556,
              "#d8576b"
             ],
             [
              0.6666666666666666,
              "#ed7953"
             ],
             [
              0.7777777777777778,
              "#fb9f3a"
             ],
             [
              0.8888888888888888,
              "#fdca26"
             ],
             [
              1,
              "#f0f921"
             ]
            ],
            "type": "surface"
           }
          ],
          "table": [
           {
            "cells": {
             "fill": {
              "color": "#EBF0F8"
             },
             "line": {
              "color": "white"
             }
            },
            "header": {
             "fill": {
              "color": "#C8D4E3"
             },
             "line": {
              "color": "white"
             }
            },
            "type": "table"
           }
          ]
         },
         "layout": {
          "annotationdefaults": {
           "arrowcolor": "#2a3f5f",
           "arrowhead": 0,
           "arrowwidth": 1
          },
          "autotypenumbers": "strict",
          "coloraxis": {
           "colorbar": {
            "outlinewidth": 0,
            "ticks": ""
           }
          },
          "colorscale": {
           "diverging": [
            [
             0,
             "#8e0152"
            ],
            [
             0.1,
             "#c51b7d"
            ],
            [
             0.2,
             "#de77ae"
            ],
            [
             0.3,
             "#f1b6da"
            ],
            [
             0.4,
             "#fde0ef"
            ],
            [
             0.5,
             "#f7f7f7"
            ],
            [
             0.6,
             "#e6f5d0"
            ],
            [
             0.7,
             "#b8e186"
            ],
            [
             0.8,
             "#7fbc41"
            ],
            [
             0.9,
             "#4d9221"
            ],
            [
             1,
             "#276419"
            ]
           ],
           "sequential": [
            [
             0,
             "#0d0887"
            ],
            [
             0.1111111111111111,
             "#46039f"
            ],
            [
             0.2222222222222222,
             "#7201a8"
            ],
            [
             0.3333333333333333,
             "#9c179e"
            ],
            [
             0.4444444444444444,
             "#bd3786"
            ],
            [
             0.5555555555555556,
             "#d8576b"
            ],
            [
             0.6666666666666666,
             "#ed7953"
            ],
            [
             0.7777777777777778,
             "#fb9f3a"
            ],
            [
             0.8888888888888888,
             "#fdca26"
            ],
            [
             1,
             "#f0f921"
            ]
           ],
           "sequentialminus": [
            [
             0,
             "#0d0887"
            ],
            [
             0.1111111111111111,
             "#46039f"
            ],
            [
             0.2222222222222222,
             "#7201a8"
            ],
            [
             0.3333333333333333,
             "#9c179e"
            ],
            [
             0.4444444444444444,
             "#bd3786"
            ],
            [
             0.5555555555555556,
             "#d8576b"
            ],
            [
             0.6666666666666666,
             "#ed7953"
            ],
            [
             0.7777777777777778,
             "#fb9f3a"
            ],
            [
             0.8888888888888888,
             "#fdca26"
            ],
            [
             1,
             "#f0f921"
            ]
           ]
          },
          "colorway": [
           "#636efa",
           "#EF553B",
           "#00cc96",
           "#ab63fa",
           "#FFA15A",
           "#19d3f3",
           "#FF6692",
           "#B6E880",
           "#FF97FF",
           "#FECB52"
          ],
          "font": {
           "color": "#2a3f5f"
          },
          "geo": {
           "bgcolor": "white",
           "lakecolor": "white",
           "landcolor": "#E5ECF6",
           "showlakes": true,
           "showland": true,
           "subunitcolor": "white"
          },
          "hoverlabel": {
           "align": "left"
          },
          "hovermode": "closest",
          "mapbox": {
           "style": "light"
          },
          "paper_bgcolor": "white",
          "plot_bgcolor": "#E5ECF6",
          "polar": {
           "angularaxis": {
            "gridcolor": "white",
            "linecolor": "white",
            "ticks": ""
           },
           "bgcolor": "#E5ECF6",
           "radialaxis": {
            "gridcolor": "white",
            "linecolor": "white",
            "ticks": ""
           }
          },
          "scene": {
           "xaxis": {
            "backgroundcolor": "#E5ECF6",
            "gridcolor": "white",
            "gridwidth": 2,
            "linecolor": "white",
            "showbackground": true,
            "ticks": "",
            "zerolinecolor": "white"
           },
           "yaxis": {
            "backgroundcolor": "#E5ECF6",
            "gridcolor": "white",
            "gridwidth": 2,
            "linecolor": "white",
            "showbackground": true,
            "ticks": "",
            "zerolinecolor": "white"
           },
           "zaxis": {
            "backgroundcolor": "#E5ECF6",
            "gridcolor": "white",
            "gridwidth": 2,
            "linecolor": "white",
            "showbackground": true,
            "ticks": "",
            "zerolinecolor": "white"
           }
          },
          "shapedefaults": {
           "line": {
            "color": "#2a3f5f"
           }
          },
          "ternary": {
           "aaxis": {
            "gridcolor": "white",
            "linecolor": "white",
            "ticks": ""
           },
           "baxis": {
            "gridcolor": "white",
            "linecolor": "white",
            "ticks": ""
           },
           "bgcolor": "#E5ECF6",
           "caxis": {
            "gridcolor": "white",
            "linecolor": "white",
            "ticks": ""
           }
          },
          "title": {
           "x": 0.05
          },
          "xaxis": {
           "automargin": true,
           "gridcolor": "white",
           "linecolor": "white",
           "ticks": "",
           "title": {
            "standoff": 15
           },
           "zerolinecolor": "white",
           "zerolinewidth": 2
          },
          "yaxis": {
           "automargin": true,
           "gridcolor": "white",
           "linecolor": "white",
           "ticks": "",
           "title": {
            "standoff": 15
           },
           "zerolinecolor": "white",
           "zerolinewidth": 2
          }
         }
        },
        "xaxis": {
         "title": {
          "text": "# IoT devices"
         }
        },
        "yaxis": {
         "title": {
          "text": "Mean Latency"
         }
        }
       }
      }
     },
     "metadata": {},
     "output_type": "display_data"
    }
   ],
   "source": [
    "import plotly.graph_objects as go\n",
    "\n",
    "# Create random data with numpy\n",
    "import numpy as np\n",
    "\n",
    "\n",
    "n_devices = list(range(100,1001,100))\n",
    "\n",
    "# Create traces\n",
    "fig = go.Figure()\n",
    "fig.add_trace(go.Scatter(x=n_devices, y=medias_por_grupo['satToGSLatency'],\n",
    "                    mode='lines',\n",
    "                    name='satToGSLatency'))\n",
    "fig.add_trace(go.Scatter(x=n_devices, y=medias_por_grupo['generatorToSatLatency'],\n",
    "                    mode='lines',\n",
    "                    name='generatorToSatLatency'))\n",
    "fig.add_trace(go.Scatter(x=n_devices, y=medias_por_grupo['endToEndLatency'],\n",
    "                    mode='lines', name='endToEndLatency'))\n",
    "fig.update_layout(\n",
    "    xaxis_title=\"# IoT devices\",\n",
    "    yaxis_title=\"Mean Latency\",\n",
    "    margin=dict(l=20, r=20, t=20, b=20),\n",
    "    legend=dict(\n",
    "    orientation=\"h\",\n",
    "    yanchor=\"bottom\",\n",
    "    y=1.02,\n",
    "    xanchor=\"right\",\n",
    "    x=1\n",
    ")\n",
    "\n",
    ")\n",
    "fig.show()\n"
   ]
  },
  {
   "cell_type": "code",
   "execution_count": 33,
   "metadata": {},
   "outputs": [
    {
     "name": "stderr",
     "output_type": "stream",
     "text": [
      "/home/visoc/.local/lib/python3.10/site-packages/scipy/__init__.py:155: UserWarning:\n",
      "\n",
      "A NumPy version >=1.18.5 and <1.25.0 is required for this version of SciPy (detected version 1.25.1\n",
      "\n"
     ]
    },
    {
     "name": "stdout",
     "output_type": "stream",
     "text": [
      "shapiro values for sample 100\n",
      "ShapiroResult(statistic=0.9419590830802917, pvalue=0.6798204183578491)\n",
      "shapiro values for sample 200\n",
      "ShapiroResult(statistic=0.9101563692092896, pvalue=0.4685307443141937)\n",
      "shapiro values for sample 300\n",
      "ShapiroResult(statistic=0.891709566116333, pvalue=0.3657727539539337)\n",
      "shapiro values for sample 400\n",
      "ShapiroResult(statistic=0.9275591969490051, pvalue=0.5798230767250061)\n",
      "shapiro values for sample 500\n",
      "ShapiroResult(statistic=0.8789454698562622, pvalue=0.3045597970485687)\n",
      "shapiro values for sample 600\n",
      "ShapiroResult(statistic=0.9717907905578613, pvalue=0.8866181969642639)\n",
      "shapiro values for sample 700\n",
      "ShapiroResult(statistic=0.945618748664856, pvalue=0.7058835625648499)\n",
      "shapiro values for sample 800\n",
      "ShapiroResult(statistic=0.956085205078125, pvalue=0.7804946899414062)\n",
      "shapiro values for sample 900\n",
      "ShapiroResult(statistic=0.9247236847877502, pvalue=0.5608585476875305)\n",
      "shapiro values for sample 1000\n",
      "ShapiroResult(statistic=0.8413777351379395, pvalue=0.1687663197517395)\n"
     ]
    }
   ],
   "source": [
    "from scipy.stats import shapiro \n",
    "for i in range(100,1001,100):\n",
    "    temp = summary[summary['n_iot'] == i]\n",
    "    values = temp['endToEndLatency'].values \n",
    "    print(f\"shapiro values for sample {i}\")\n",
    "    print(shapiro(values))"
   ]
  },
  {
   "cell_type": "code",
   "execution_count": 29,
   "metadata": {},
   "outputs": [],
   "source": [
    "import plotly.io as pio\n",
    "pio.write_image(fig, 'mean_latency.png',scale=3)"
   ]
  },
  {
   "cell_type": "code",
   "execution_count": 30,
   "metadata": {},
   "outputs": [
    {
     "data": {
      "application/vnd.plotly.v1+json": {
       "config": {
        "plotlyServerURL": "https://plot.ly"
       },
       "data": [
        {
         "mode": "lines",
         "name": "satToGroundPLR",
         "type": "scatter",
         "x": [
          100,
          200,
          300,
          400,
          500,
          600,
          700,
          800,
          900,
          1000
         ],
         "y": [
          0.5897619047619047,
          0.6574925074925074,
          0.7678431372549019,
          0.7279926389400073,
          0.753592375366569,
          0.7305943223443223,
          0.7601181466642993,
          0.7875214853786282,
          0.76353792431593,
          0.7914761770075893
         ]
        },
        {
         "mode": "lines",
         "name": "generatorToSatPLR",
         "type": "scatter",
         "x": [
          100,
          200,
          300,
          400,
          500,
          600,
          700,
          800,
          900,
          1000
         ],
         "y": [
          0.15238095238095237,
          0.13326923076923075,
          0.18172932330827063,
          0.24241077441077435,
          0.17087926743590656,
          0.21643996448750266,
          0.2359737145725549,
          0.19238633875546368,
          0.1909149151565981,
          0.22176951281605645
         ]
        },
        {
         "mode": "lines",
         "name": "endToEndPLR",
         "type": "scatter",
         "x": [
          100,
          200,
          300,
          400,
          500,
          600,
          700,
          800,
          900,
          1000
         ],
         "y": [
          0.6699999999999999,
          0.7002472527472527,
          0.807172932330827,
          0.7926464646464646,
          0.794331201848081,
          0.7882374746551317,
          0.816910823755812,
          0.828903640766875,
          0.8093433637464947,
          0.8356119625713923
         ]
        }
       ],
       "layout": {
        "legend": {
         "orientation": "h",
         "x": 1,
         "xanchor": "right",
         "y": 1.02,
         "yanchor": "bottom"
        },
        "margin": {
         "b": 20,
         "l": 20,
         "r": 20,
         "t": 20
        },
        "template": {
         "data": {
          "bar": [
           {
            "error_x": {
             "color": "#2a3f5f"
            },
            "error_y": {
             "color": "#2a3f5f"
            },
            "marker": {
             "line": {
              "color": "#E5ECF6",
              "width": 0.5
             },
             "pattern": {
              "fillmode": "overlay",
              "size": 10,
              "solidity": 0.2
             }
            },
            "type": "bar"
           }
          ],
          "barpolar": [
           {
            "marker": {
             "line": {
              "color": "#E5ECF6",
              "width": 0.5
             },
             "pattern": {
              "fillmode": "overlay",
              "size": 10,
              "solidity": 0.2
             }
            },
            "type": "barpolar"
           }
          ],
          "carpet": [
           {
            "aaxis": {
             "endlinecolor": "#2a3f5f",
             "gridcolor": "white",
             "linecolor": "white",
             "minorgridcolor": "white",
             "startlinecolor": "#2a3f5f"
            },
            "baxis": {
             "endlinecolor": "#2a3f5f",
             "gridcolor": "white",
             "linecolor": "white",
             "minorgridcolor": "white",
             "startlinecolor": "#2a3f5f"
            },
            "type": "carpet"
           }
          ],
          "choropleth": [
           {
            "colorbar": {
             "outlinewidth": 0,
             "ticks": ""
            },
            "type": "choropleth"
           }
          ],
          "contour": [
           {
            "colorbar": {
             "outlinewidth": 0,
             "ticks": ""
            },
            "colorscale": [
             [
              0,
              "#0d0887"
             ],
             [
              0.1111111111111111,
              "#46039f"
             ],
             [
              0.2222222222222222,
              "#7201a8"
             ],
             [
              0.3333333333333333,
              "#9c179e"
             ],
             [
              0.4444444444444444,
              "#bd3786"
             ],
             [
              0.5555555555555556,
              "#d8576b"
             ],
             [
              0.6666666666666666,
              "#ed7953"
             ],
             [
              0.7777777777777778,
              "#fb9f3a"
             ],
             [
              0.8888888888888888,
              "#fdca26"
             ],
             [
              1,
              "#f0f921"
             ]
            ],
            "type": "contour"
           }
          ],
          "contourcarpet": [
           {
            "colorbar": {
             "outlinewidth": 0,
             "ticks": ""
            },
            "type": "contourcarpet"
           }
          ],
          "heatmap": [
           {
            "colorbar": {
             "outlinewidth": 0,
             "ticks": ""
            },
            "colorscale": [
             [
              0,
              "#0d0887"
             ],
             [
              0.1111111111111111,
              "#46039f"
             ],
             [
              0.2222222222222222,
              "#7201a8"
             ],
             [
              0.3333333333333333,
              "#9c179e"
             ],
             [
              0.4444444444444444,
              "#bd3786"
             ],
             [
              0.5555555555555556,
              "#d8576b"
             ],
             [
              0.6666666666666666,
              "#ed7953"
             ],
             [
              0.7777777777777778,
              "#fb9f3a"
             ],
             [
              0.8888888888888888,
              "#fdca26"
             ],
             [
              1,
              "#f0f921"
             ]
            ],
            "type": "heatmap"
           }
          ],
          "heatmapgl": [
           {
            "colorbar": {
             "outlinewidth": 0,
             "ticks": ""
            },
            "colorscale": [
             [
              0,
              "#0d0887"
             ],
             [
              0.1111111111111111,
              "#46039f"
             ],
             [
              0.2222222222222222,
              "#7201a8"
             ],
             [
              0.3333333333333333,
              "#9c179e"
             ],
             [
              0.4444444444444444,
              "#bd3786"
             ],
             [
              0.5555555555555556,
              "#d8576b"
             ],
             [
              0.6666666666666666,
              "#ed7953"
             ],
             [
              0.7777777777777778,
              "#fb9f3a"
             ],
             [
              0.8888888888888888,
              "#fdca26"
             ],
             [
              1,
              "#f0f921"
             ]
            ],
            "type": "heatmapgl"
           }
          ],
          "histogram": [
           {
            "marker": {
             "pattern": {
              "fillmode": "overlay",
              "size": 10,
              "solidity": 0.2
             }
            },
            "type": "histogram"
           }
          ],
          "histogram2d": [
           {
            "colorbar": {
             "outlinewidth": 0,
             "ticks": ""
            },
            "colorscale": [
             [
              0,
              "#0d0887"
             ],
             [
              0.1111111111111111,
              "#46039f"
             ],
             [
              0.2222222222222222,
              "#7201a8"
             ],
             [
              0.3333333333333333,
              "#9c179e"
             ],
             [
              0.4444444444444444,
              "#bd3786"
             ],
             [
              0.5555555555555556,
              "#d8576b"
             ],
             [
              0.6666666666666666,
              "#ed7953"
             ],
             [
              0.7777777777777778,
              "#fb9f3a"
             ],
             [
              0.8888888888888888,
              "#fdca26"
             ],
             [
              1,
              "#f0f921"
             ]
            ],
            "type": "histogram2d"
           }
          ],
          "histogram2dcontour": [
           {
            "colorbar": {
             "outlinewidth": 0,
             "ticks": ""
            },
            "colorscale": [
             [
              0,
              "#0d0887"
             ],
             [
              0.1111111111111111,
              "#46039f"
             ],
             [
              0.2222222222222222,
              "#7201a8"
             ],
             [
              0.3333333333333333,
              "#9c179e"
             ],
             [
              0.4444444444444444,
              "#bd3786"
             ],
             [
              0.5555555555555556,
              "#d8576b"
             ],
             [
              0.6666666666666666,
              "#ed7953"
             ],
             [
              0.7777777777777778,
              "#fb9f3a"
             ],
             [
              0.8888888888888888,
              "#fdca26"
             ],
             [
              1,
              "#f0f921"
             ]
            ],
            "type": "histogram2dcontour"
           }
          ],
          "mesh3d": [
           {
            "colorbar": {
             "outlinewidth": 0,
             "ticks": ""
            },
            "type": "mesh3d"
           }
          ],
          "parcoords": [
           {
            "line": {
             "colorbar": {
              "outlinewidth": 0,
              "ticks": ""
             }
            },
            "type": "parcoords"
           }
          ],
          "pie": [
           {
            "automargin": true,
            "type": "pie"
           }
          ],
          "scatter": [
           {
            "fillpattern": {
             "fillmode": "overlay",
             "size": 10,
             "solidity": 0.2
            },
            "type": "scatter"
           }
          ],
          "scatter3d": [
           {
            "line": {
             "colorbar": {
              "outlinewidth": 0,
              "ticks": ""
             }
            },
            "marker": {
             "colorbar": {
              "outlinewidth": 0,
              "ticks": ""
             }
            },
            "type": "scatter3d"
           }
          ],
          "scattercarpet": [
           {
            "marker": {
             "colorbar": {
              "outlinewidth": 0,
              "ticks": ""
             }
            },
            "type": "scattercarpet"
           }
          ],
          "scattergeo": [
           {
            "marker": {
             "colorbar": {
              "outlinewidth": 0,
              "ticks": ""
             }
            },
            "type": "scattergeo"
           }
          ],
          "scattergl": [
           {
            "marker": {
             "colorbar": {
              "outlinewidth": 0,
              "ticks": ""
             }
            },
            "type": "scattergl"
           }
          ],
          "scattermapbox": [
           {
            "marker": {
             "colorbar": {
              "outlinewidth": 0,
              "ticks": ""
             }
            },
            "type": "scattermapbox"
           }
          ],
          "scatterpolar": [
           {
            "marker": {
             "colorbar": {
              "outlinewidth": 0,
              "ticks": ""
             }
            },
            "type": "scatterpolar"
           }
          ],
          "scatterpolargl": [
           {
            "marker": {
             "colorbar": {
              "outlinewidth": 0,
              "ticks": ""
             }
            },
            "type": "scatterpolargl"
           }
          ],
          "scatterternary": [
           {
            "marker": {
             "colorbar": {
              "outlinewidth": 0,
              "ticks": ""
             }
            },
            "type": "scatterternary"
           }
          ],
          "surface": [
           {
            "colorbar": {
             "outlinewidth": 0,
             "ticks": ""
            },
            "colorscale": [
             [
              0,
              "#0d0887"
             ],
             [
              0.1111111111111111,
              "#46039f"
             ],
             [
              0.2222222222222222,
              "#7201a8"
             ],
             [
              0.3333333333333333,
              "#9c179e"
             ],
             [
              0.4444444444444444,
              "#bd3786"
             ],
             [
              0.5555555555555556,
              "#d8576b"
             ],
             [
              0.6666666666666666,
              "#ed7953"
             ],
             [
              0.7777777777777778,
              "#fb9f3a"
             ],
             [
              0.8888888888888888,
              "#fdca26"
             ],
             [
              1,
              "#f0f921"
             ]
            ],
            "type": "surface"
           }
          ],
          "table": [
           {
            "cells": {
             "fill": {
              "color": "#EBF0F8"
             },
             "line": {
              "color": "white"
             }
            },
            "header": {
             "fill": {
              "color": "#C8D4E3"
             },
             "line": {
              "color": "white"
             }
            },
            "type": "table"
           }
          ]
         },
         "layout": {
          "annotationdefaults": {
           "arrowcolor": "#2a3f5f",
           "arrowhead": 0,
           "arrowwidth": 1
          },
          "autotypenumbers": "strict",
          "coloraxis": {
           "colorbar": {
            "outlinewidth": 0,
            "ticks": ""
           }
          },
          "colorscale": {
           "diverging": [
            [
             0,
             "#8e0152"
            ],
            [
             0.1,
             "#c51b7d"
            ],
            [
             0.2,
             "#de77ae"
            ],
            [
             0.3,
             "#f1b6da"
            ],
            [
             0.4,
             "#fde0ef"
            ],
            [
             0.5,
             "#f7f7f7"
            ],
            [
             0.6,
             "#e6f5d0"
            ],
            [
             0.7,
             "#b8e186"
            ],
            [
             0.8,
             "#7fbc41"
            ],
            [
             0.9,
             "#4d9221"
            ],
            [
             1,
             "#276419"
            ]
           ],
           "sequential": [
            [
             0,
             "#0d0887"
            ],
            [
             0.1111111111111111,
             "#46039f"
            ],
            [
             0.2222222222222222,
             "#7201a8"
            ],
            [
             0.3333333333333333,
             "#9c179e"
            ],
            [
             0.4444444444444444,
             "#bd3786"
            ],
            [
             0.5555555555555556,
             "#d8576b"
            ],
            [
             0.6666666666666666,
             "#ed7953"
            ],
            [
             0.7777777777777778,
             "#fb9f3a"
            ],
            [
             0.8888888888888888,
             "#fdca26"
            ],
            [
             1,
             "#f0f921"
            ]
           ],
           "sequentialminus": [
            [
             0,
             "#0d0887"
            ],
            [
             0.1111111111111111,
             "#46039f"
            ],
            [
             0.2222222222222222,
             "#7201a8"
            ],
            [
             0.3333333333333333,
             "#9c179e"
            ],
            [
             0.4444444444444444,
             "#bd3786"
            ],
            [
             0.5555555555555556,
             "#d8576b"
            ],
            [
             0.6666666666666666,
             "#ed7953"
            ],
            [
             0.7777777777777778,
             "#fb9f3a"
            ],
            [
             0.8888888888888888,
             "#fdca26"
            ],
            [
             1,
             "#f0f921"
            ]
           ]
          },
          "colorway": [
           "#636efa",
           "#EF553B",
           "#00cc96",
           "#ab63fa",
           "#FFA15A",
           "#19d3f3",
           "#FF6692",
           "#B6E880",
           "#FF97FF",
           "#FECB52"
          ],
          "font": {
           "color": "#2a3f5f"
          },
          "geo": {
           "bgcolor": "white",
           "lakecolor": "white",
           "landcolor": "#E5ECF6",
           "showlakes": true,
           "showland": true,
           "subunitcolor": "white"
          },
          "hoverlabel": {
           "align": "left"
          },
          "hovermode": "closest",
          "mapbox": {
           "style": "light"
          },
          "paper_bgcolor": "white",
          "plot_bgcolor": "#E5ECF6",
          "polar": {
           "angularaxis": {
            "gridcolor": "white",
            "linecolor": "white",
            "ticks": ""
           },
           "bgcolor": "#E5ECF6",
           "radialaxis": {
            "gridcolor": "white",
            "linecolor": "white",
            "ticks": ""
           }
          },
          "scene": {
           "xaxis": {
            "backgroundcolor": "#E5ECF6",
            "gridcolor": "white",
            "gridwidth": 2,
            "linecolor": "white",
            "showbackground": true,
            "ticks": "",
            "zerolinecolor": "white"
           },
           "yaxis": {
            "backgroundcolor": "#E5ECF6",
            "gridcolor": "white",
            "gridwidth": 2,
            "linecolor": "white",
            "showbackground": true,
            "ticks": "",
            "zerolinecolor": "white"
           },
           "zaxis": {
            "backgroundcolor": "#E5ECF6",
            "gridcolor": "white",
            "gridwidth": 2,
            "linecolor": "white",
            "showbackground": true,
            "ticks": "",
            "zerolinecolor": "white"
           }
          },
          "shapedefaults": {
           "line": {
            "color": "#2a3f5f"
           }
          },
          "ternary": {
           "aaxis": {
            "gridcolor": "white",
            "linecolor": "white",
            "ticks": ""
           },
           "baxis": {
            "gridcolor": "white",
            "linecolor": "white",
            "ticks": ""
           },
           "bgcolor": "#E5ECF6",
           "caxis": {
            "gridcolor": "white",
            "linecolor": "white",
            "ticks": ""
           }
          },
          "title": {
           "x": 0.05
          },
          "xaxis": {
           "automargin": true,
           "gridcolor": "white",
           "linecolor": "white",
           "ticks": "",
           "title": {
            "standoff": 15
           },
           "zerolinecolor": "white",
           "zerolinewidth": 2
          },
          "yaxis": {
           "automargin": true,
           "gridcolor": "white",
           "linecolor": "white",
           "ticks": "",
           "title": {
            "standoff": 15
           },
           "zerolinecolor": "white",
           "zerolinewidth": 2
          }
         }
        },
        "xaxis": {
         "title": {
          "text": "# IoT devices"
         }
        },
        "yaxis": {
         "title": {
          "text": "Mean Packet Loss Rate (PLR)"
         }
        }
       }
      }
     },
     "metadata": {},
     "output_type": "display_data"
    }
   ],
   "source": [
    "import plotly.graph_objects as go\n",
    "\n",
    "# Create random data with numpy\n",
    "import numpy as np\n",
    "\n",
    "\n",
    "n_devices = list(range(100,1001,100))\n",
    "\n",
    "# Create traces\n",
    "fig = go.Figure()\n",
    "fig.add_trace(go.Scatter(x=n_devices, y=medias_por_grupo['satToGroundPLR'],\n",
    "                    mode='lines',\n",
    "                    name='satToGroundPLR'))\n",
    "fig.add_trace(go.Scatter(x=n_devices, y=medias_por_grupo['generatorToSatPLR'],\n",
    "                    mode='lines',\n",
    "                    name='generatorToSatPLR'))\n",
    "fig.add_trace(go.Scatter(x=n_devices, y=medias_por_grupo['endToEndPLR'],\n",
    "                    mode='lines', name='endToEndPLR'))\n",
    "fig.update_layout(\n",
    "    xaxis_title=\"# IoT devices\",\n",
    "    yaxis_title=\"Mean Packet Loss Rate (PLR)\",\n",
    "    margin=dict(l=20, r=20, t=20, b=20),\n",
    "    legend=dict(\n",
    "    orientation=\"h\",\n",
    "    yanchor=\"bottom\",\n",
    "    y=1.02,\n",
    "    xanchor=\"right\",\n",
    "    x=1\n",
    ")\n",
    "\n",
    ")\n",
    "fig.show()\n"
   ]
  },
  {
   "cell_type": "code",
   "execution_count": 31,
   "metadata": {},
   "outputs": [],
   "source": [
    "import plotly.io as pio\n",
    "pio.write_image(fig, 'Mean_PLR.png',scale=3)"
   ]
  },
  {
   "cell_type": "markdown",
   "metadata": {},
   "source": [
    "summary"
   ]
  }
 ],
 "metadata": {
  "kernelspec": {
   "display_name": "Python 3",
   "language": "python",
   "name": "python3"
  },
  "language_info": {
   "codemirror_mode": {
    "name": "ipython",
    "version": 3
   },
   "file_extension": ".py",
   "mimetype": "text/x-python",
   "name": "python",
   "nbconvert_exporter": "python",
   "pygments_lexer": "ipython3",
   "version": "3.10.12"
  }
 },
 "nbformat": 4,
 "nbformat_minor": 2
}
